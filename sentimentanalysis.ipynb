{
 "cells": [
  {
   "cell_type": "code",
   "execution_count": 37,
   "id": "904badf8",
   "metadata": {},
   "outputs": [],
   "source": [
    "import numpy as np\n",
    "import requests\n",
    "from bs4 import BeautifulSoup\n",
    "import datetime\n",
    "import pandas as pd\n",
    "import matplotlib.pyplot as plt\n",
    "import unicodedata\n",
    "import os\n",
    "import yfinance as yf\n",
    "import math\n",
    "import warnings\n",
    "warnings.filterwarnings(\"ignore\")\n",
    "import nltk\n",
    "from nltk.sentiment.vader import SentimentIntensityAnalyzer\n",
    "from matplotlib.dates import DateFormatter\n",
    "import statistics\n",
    "import pandas as pd\n",
    "from sklearn.model_selection import train_test_split\n",
    "from sklearn.feature_extraction.text import TfidfVectorizer\n",
    "from sklearn.ensemble import RandomForestClassifier\n",
    "from sklearn.model_selection import cross_val_score\n",
    "from nltk.corpus import stopwords\n",
    "from sklearn.preprocessing import LabelEncoder,label_binarize\n",
    "from datetime import timedelta\n",
    "from sklearn.linear_model import LogisticRegression\n",
    "import time\n",
    "from sklearn.metrics import accuracy_score, precision_score, recall_score, f1_score, roc_auc_score, roc_curve, auc\n",
    "from sklearn.decomposition import LatentDirichletAllocation\n",
    "from sklearn.preprocessing import LabelEncoder\n",
    "from sklearn.metrics import classification_report,confusion_matrix"
   ]
  },
  {
   "cell_type": "code",
   "execution_count": 2,
   "id": "7361d8aa",
   "metadata": {},
   "outputs": [],
   "source": [
    "def scrape_news(query, start_date, end_date):\n",
    "    articles = []\n",
    "    url = f\"https://news.google.com/rss/search?q={query}+after:{start_date}+before:{end_date}\"\n",
    "    response = requests.get(url)\n",
    "    soup = BeautifulSoup(response.content, 'xml')\n",
    "    items = soup.find_all('item')\n",
    "    \n",
    "    for item in items:\n",
    "        title = item.title.text\n",
    "        link = item.link.text\n",
    "        pub_date = item.pubDate.text\n",
    "        articles.append({'title': title, 'link': link, 'pub_date': pub_date})\n",
    "    return pd.DataFrame(articles)"
   ]
  },
  {
   "cell_type": "code",
   "execution_count": 3,
   "id": "4c3b7504",
   "metadata": {},
   "outputs": [],
   "source": [
    "start_date = '2021-01-01'\n",
    "end_date = '2023-12-31'\n",
    "query = \"Google stocks\"\n",
    "\n",
    "# Convert start and end dates to datetime objects\n",
    "start_date_dt = datetime.datetime.strptime(start_date, '%Y-%m-%d')\n",
    "end_date_dt = datetime.datetime.strptime(end_date, '%Y-%m-%d')\n",
    "\n",
    "# Initialize an empty DataFrame to store all articles\n",
    "all_articles = pd.DataFrame()\n",
    "\n",
    "# Loop through each month in the date range\n",
    "current_date = start_date_dt\n",
    "while current_date < end_date_dt:\n",
    "    # Define the next month's start date\n",
    "    next_date = current_date + datetime.timedelta(days=30)\n",
    "    \n",
    "    # Format dates to strings\n",
    "    start_str = current_date.strftime('%Y-%m-%d')\n",
    "    end_str = next_date.strftime('%Y-%m-%d')\n",
    "    \n",
    "    # Scrape news for the current month\n",
    "    month_articles = scrape_news(query, start_str, end_str)\n",
    "    \n",
    "    # Append month articles to the all_articles DataFrame\n",
    "    all_articles = pd.concat([all_articles, month_articles], ignore_index=True)\n",
    "    \n",
    "    # Move to the next month\n",
    "    current_date = next_date\n",
    "\n",
    "# Save all articles to a CSV file\n",
    "all_articles.to_csv('google_news.csv', index=False)\n",
    "\n"
   ]
  },
  {
   "cell_type": "code",
   "execution_count": 4,
   "id": "384e4527",
   "metadata": {},
   "outputs": [
    {
     "data": {
      "text/html": [
       "<div>\n",
       "<style scoped>\n",
       "    .dataframe tbody tr th:only-of-type {\n",
       "        vertical-align: middle;\n",
       "    }\n",
       "\n",
       "    .dataframe tbody tr th {\n",
       "        vertical-align: top;\n",
       "    }\n",
       "\n",
       "    .dataframe thead th {\n",
       "        text-align: right;\n",
       "    }\n",
       "</style>\n",
       "<table border=\"1\" class=\"dataframe\">\n",
       "  <thead>\n",
       "    <tr style=\"text-align: right;\">\n",
       "      <th></th>\n",
       "      <th>title</th>\n",
       "      <th>link</th>\n",
       "      <th>pub_date</th>\n",
       "    </tr>\n",
       "  </thead>\n",
       "  <tbody>\n",
       "    <tr>\n",
       "      <th>0</th>\n",
       "      <td>Google workers form new labour union, a tech i...</td>\n",
       "      <td>https://news.google.com/rss/articles/CBMic2h0d...</td>\n",
       "      <td>Mon, 04 Jan 2021 08:00:00 GMT</td>\n",
       "    </tr>\n",
       "    <tr>\n",
       "      <th>1</th>\n",
       "      <td>Google removes 30 loan apps from Play store af...</td>\n",
       "      <td>https://news.google.com/rss/articles/CBMilQFod...</td>\n",
       "      <td>Thu, 14 Jan 2021 08:00:00 GMT</td>\n",
       "    </tr>\n",
       "    <tr>\n",
       "      <th>2</th>\n",
       "      <td>Is your measurement plan future-proof - Think ...</td>\n",
       "      <td>https://news.google.com/rss/articles/CBMibWh0d...</td>\n",
       "      <td>Tue, 19 Jan 2021 08:00:00 GMT</td>\n",
       "    </tr>\n",
       "    <tr>\n",
       "      <th>3</th>\n",
       "      <td>The man who could have made $1 billion in Goog...</td>\n",
       "      <td>https://news.google.com/rss/articles/CBMiaGh0d...</td>\n",
       "      <td>Wed, 27 Jan 2021 08:00:00 GMT</td>\n",
       "    </tr>\n",
       "    <tr>\n",
       "      <th>4</th>\n",
       "      <td>Google removes finance-based mobile applicatio...</td>\n",
       "      <td>https://news.google.com/rss/articles/CBMijQFod...</td>\n",
       "      <td>Thu, 21 Jan 2021 08:00:00 GMT</td>\n",
       "    </tr>\n",
       "  </tbody>\n",
       "</table>\n",
       "</div>"
      ],
      "text/plain": [
       "                                               title  \\\n",
       "0  Google workers form new labour union, a tech i...   \n",
       "1  Google removes 30 loan apps from Play store af...   \n",
       "2  Is your measurement plan future-proof - Think ...   \n",
       "3  The man who could have made $1 billion in Goog...   \n",
       "4  Google removes finance-based mobile applicatio...   \n",
       "\n",
       "                                                link  \\\n",
       "0  https://news.google.com/rss/articles/CBMic2h0d...   \n",
       "1  https://news.google.com/rss/articles/CBMilQFod...   \n",
       "2  https://news.google.com/rss/articles/CBMibWh0d...   \n",
       "3  https://news.google.com/rss/articles/CBMiaGh0d...   \n",
       "4  https://news.google.com/rss/articles/CBMijQFod...   \n",
       "\n",
       "                        pub_date  \n",
       "0  Mon, 04 Jan 2021 08:00:00 GMT  \n",
       "1  Thu, 14 Jan 2021 08:00:00 GMT  \n",
       "2  Tue, 19 Jan 2021 08:00:00 GMT  \n",
       "3  Wed, 27 Jan 2021 08:00:00 GMT  \n",
       "4  Thu, 21 Jan 2021 08:00:00 GMT  "
      ]
     },
     "execution_count": 4,
     "metadata": {},
     "output_type": "execute_result"
    }
   ],
   "source": [
    "news_df = pd.read_csv('google_news.csv')\n",
    "news_df.head()"
   ]
  },
  {
   "cell_type": "code",
   "execution_count": 5,
   "id": "9e3fd442",
   "metadata": {},
   "outputs": [
    {
     "data": {
      "text/plain": [
       "'https://news.google.com/rss/articles/CBMic2h0dHBzOi8vd3d3Lm1vbmV5Y29udHJvbC5jb20vbmV3cy9idXNpbmVzcy9nb29nbGUtd29ya2Vycy1mb3JtLW5ldy1sYWJvdXItdW5pb24tYS10ZWNoLWluZHVzdHJ5LXJhcml0eS02MzAzNDMxLmh0bWzSAXdodHRwczovL3d3dy5tb25leWNvbnRyb2wuY29tL25ld3MvYnVzaW5lc3MvZ29vZ2xlLXdvcmtlcnMtZm9ybS1uZXctbGFib3VyLXVuaW9uLWEtdGVjaC1pbmR1c3RyeS1yYXJpdHktNjMwMzQzMS5odG1sL2FtcA?oc=5'"
      ]
     },
     "execution_count": 5,
     "metadata": {},
     "output_type": "execute_result"
    }
   ],
   "source": [
    "# news_df['link'][0]"
   ]
  },
  {
   "cell_type": "code",
   "execution_count": 6,
   "id": "d74aa704",
   "metadata": {},
   "outputs": [
    {
     "name": "stderr",
     "output_type": "stream",
     "text": [
      "[nltk_data] Downloading package stopwords to C:\\Users\\Sumit\n",
      "[nltk_data]     Ranjan\\AppData\\Roaming\\nltk_data...\n",
      "[nltk_data]   Package stopwords is already up-to-date!\n",
      "[nltk_data] Downloading package punkt to C:\\Users\\Sumit\n",
      "[nltk_data]     Ranjan\\AppData\\Roaming\\nltk_data...\n",
      "[nltk_data]   Package punkt is already up-to-date!\n"
     ]
    },
    {
     "data": {
      "text/plain": [
       "True"
      ]
     },
     "execution_count": 6,
     "metadata": {},
     "output_type": "execute_result"
    }
   ],
   "source": [
    "# Text preprocessing and cleaning\n",
    "import nltk\n",
    "from nltk.corpus import stopwords\n",
    "from nltk.tokenize import word_tokenize\n",
    "import re\n",
    "\n",
    "nltk.download('stopwords')\n",
    "nltk.download('punkt')"
   ]
  },
  {
   "cell_type": "code",
   "execution_count": 7,
   "id": "9dfecce9",
   "metadata": {},
   "outputs": [],
   "source": [
    "def clean_text(text):\n",
    "    text = re.sub(r'http\\S+', '', text)\n",
    "    text = re.sub(r'\\W', ' ', text)\n",
    "    text = re.sub(r'\\s+', ' ', text)\n",
    "    text = text.lower()\n",
    "    tokens = word_tokenize(text)\n",
    "    tokens = [word for word in tokens if word not in stopwords.words('english')]\n",
    "    return ' '.join(tokens)\n",
    "\n",
    "news_df['cleaned_text'] = news_df['title'].apply(clean_text)"
   ]
  },
  {
   "cell_type": "code",
   "execution_count": 9,
   "id": "44329eb7",
   "metadata": {},
   "outputs": [],
   "source": [
    "# news_df.head()"
   ]
  },
  {
   "cell_type": "code",
   "execution_count": 10,
   "id": "211db6f2",
   "metadata": {},
   "outputs": [
    {
     "name": "stdout",
     "output_type": "stream",
     "text": [
      "[*********************100%%**********************]  1 of 1 completed\n"
     ]
    }
   ],
   "source": [
    "# Stock prices within Given timeline\n",
    "import yfinance as yf\n",
    "google_stock = yf.download('GOOG', start=start_date, end=end_date)\n",
    "google_stock.reset_index(inplace=True)\n",
    "google_stock.to_csv('google_stock_prices.csv', index=False)"
   ]
  },
  {
   "cell_type": "code",
   "execution_count": 12,
   "id": "e60f5b9b",
   "metadata": {},
   "outputs": [],
   "source": [
    "stock_df = pd.read_csv('google_stock_prices.csv')\n",
    "# stock_df.head()"
   ]
  },
  {
   "cell_type": "code",
   "execution_count": 14,
   "id": "594f291a",
   "metadata": {},
   "outputs": [
    {
     "name": "stdout",
     "output_type": "stream",
     "text": [
      "Collecting textblob\n",
      "  Obtaining dependency information for textblob from https://files.pythonhosted.org/packages/02/07/5fd2945356dd839974d3a25de8a142dc37293c21315729a41e775b5f3569/textblob-0.18.0.post0-py3-none-any.whl.metadata\n",
      "  Downloading textblob-0.18.0.post0-py3-none-any.whl.metadata (4.5 kB)\n",
      "Requirement already satisfied: nltk>=3.8 in d:\\anacondapy\\anaconda3\\lib\\site-packages (from textblob) (3.8.1)\n",
      "Requirement already satisfied: click in d:\\anacondapy\\anaconda3\\lib\\site-packages (from nltk>=3.8->textblob) (8.0.4)\n",
      "Requirement already satisfied: joblib in d:\\anacondapy\\anaconda3\\lib\\site-packages (from nltk>=3.8->textblob) (1.2.0)\n",
      "Requirement already satisfied: regex>=2021.8.3 in d:\\anacondapy\\anaconda3\\lib\\site-packages (from nltk>=3.8->textblob) (2022.7.9)\n",
      "Requirement already satisfied: tqdm in d:\\anacondapy\\anaconda3\\lib\\site-packages (from nltk>=3.8->textblob) (4.65.0)\n",
      "Requirement already satisfied: colorama in d:\\anacondapy\\anaconda3\\lib\\site-packages (from click->nltk>=3.8->textblob) (0.4.6)\n",
      "Downloading textblob-0.18.0.post0-py3-none-any.whl (626 kB)\n",
      "   ---------------------------------------- 0.0/626.3 kB ? eta -:--:--\n",
      "   - ------------------------------------- 30.7/626.3 kB 640.0 kB/s eta 0:00:01\n",
      "   ----- ---------------------------------- 92.2/626.3 kB 1.1 MB/s eta 0:00:01\n",
      "   -------------------- ------------------- 317.4/626.3 kB 2.5 MB/s eta 0:00:01\n",
      "   ---------------------------------------  624.6/626.3 kB 3.9 MB/s eta 0:00:01\n",
      "   ---------------------------------------- 626.3/626.3 kB 3.3 MB/s eta 0:00:00\n",
      "Installing collected packages: textblob\n",
      "Successfully installed textblob-0.18.0.post0\n"
     ]
    }
   ],
   "source": [
    "!pip install textblob\n"
   ]
  },
  {
   "cell_type": "code",
   "execution_count": 15,
   "id": "5f7b031b",
   "metadata": {},
   "outputs": [],
   "source": [
    "# Sentiment Analysis\n",
    "from textblob import TextBlob"
   ]
  },
  {
   "cell_type": "code",
   "execution_count": 16,
   "id": "ca182664",
   "metadata": {},
   "outputs": [],
   "source": [
    "\n",
    "def get_sentiment(text):\n",
    "    analysis = TextBlob(text)\n",
    "    return analysis.sentiment.polarity\n",
    "\n",
    "news_df['sentiment'] = news_df['cleaned_text'].apply(get_sentiment)"
   ]
  },
  {
   "cell_type": "code",
   "execution_count": null,
   "id": "6478fabb",
   "metadata": {},
   "outputs": [],
   "source": [
    "# Compiling The Entire Dataset"
   ]
  },
  {
   "cell_type": "code",
   "execution_count": 17,
   "id": "c51b7794",
   "metadata": {},
   "outputs": [
    {
     "name": "stdout",
     "output_type": "stream",
     "text": [
      "                                               title  \\\n",
      "0  Google workers form new labour union, a tech i...   \n",
      "1  Google workers have formed the company's first...   \n",
      "2  Google removes 30 loan apps from Play store af...   \n",
      "3  NLP in Finance: Question Answering - Towards D...   \n",
      "4  Fitbit Closes $2.1 Billion Google Merger - The...   \n",
      "\n",
      "                                                link    pub_date  \\\n",
      "0  https://news.google.com/rss/articles/CBMic2h0d...  2021-01-04   \n",
      "1  https://news.google.com/rss/articles/CBMiRGh0d...  2021-01-04   \n",
      "2  https://news.google.com/rss/articles/CBMilQFod...  2021-01-14   \n",
      "3  https://news.google.com/rss/articles/CBMiggFod...  2021-01-14   \n",
      "4  https://news.google.com/rss/articles/CBMiWWh0d...  2021-01-14   \n",
      "\n",
      "                                        cleaned_text  sentiment        Date  \\\n",
      "0  google workers form new labour union tech indu...   0.136364  2021-01-04   \n",
      "1  google workers formed company first ever union...   0.250000  2021-01-04   \n",
      "2  google removes 30 loan apps play store rbi red...   0.000000  2021-01-14   \n",
      "3  nlp finance question answering towards data sc...   0.000000  2021-01-14   \n",
      "4  fitbit closes 2 1 billion google merger thestreet   0.000000  2021-01-14   \n",
      "\n",
      "        Open       High        Low      Close  Adj Close    Volume  \n",
      "0  87.876999  88.032501  85.392502  86.412003  86.313782  38038000  \n",
      "1  87.876999  88.032501  85.392502  86.412003  86.313782  38038000  \n",
      "2  87.681000  88.750504  86.669998  87.009003  86.910103  23590000  \n",
      "3  87.681000  88.750504  86.669998  87.009003  86.910103  23590000  \n",
      "4  87.681000  88.750504  86.669998  87.009003  86.910103  23590000  \n"
     ]
    }
   ],
   "source": [
    "news_df['pub_date'] = pd.to_datetime(news_df['pub_date']).dt.date\n",
    "\n",
    "stock_df['Date'] = pd.to_datetime(stock_df['Date']).dt.date\n",
    "\n",
    "merged_df = pd.merge(news_df, stock_df, left_on='pub_date', right_on='Date', how='inner')\n",
    "\n",
    "if merged_df.empty:\n",
    "    print(\"The merged DataFrame is empty. Please check the date ranges and formats.\")\n",
    "else:\n",
    "    merged_df.to_csv('merged_data.csv', index=False)\n",
    "    print(merged_df.head())"
   ]
  },
  {
   "cell_type": "code",
   "execution_count": 20,
   "id": "c31bd683",
   "metadata": {},
   "outputs": [
    {
     "name": "stdout",
     "output_type": "stream",
     "text": [
      "<class 'pandas.core.frame.DataFrame'>\n",
      "RangeIndex: 1601 entries, 0 to 1600\n",
      "Data columns (total 5 columns):\n",
      " #   Column        Non-Null Count  Dtype  \n",
      "---  ------        --------------  -----  \n",
      " 0   title         1601 non-null   object \n",
      " 1   link          1601 non-null   object \n",
      " 2   pub_date      1601 non-null   object \n",
      " 3   cleaned_text  1601 non-null   object \n",
      " 4   sentiment     1601 non-null   float64\n",
      "dtypes: float64(1), object(4)\n",
      "memory usage: 62.7+ KB\n"
     ]
    }
   ],
   "source": [
    "news_df.info()"
   ]
  },
  {
   "cell_type": "code",
   "execution_count": 22,
   "id": "8b2f43c3",
   "metadata": {},
   "outputs": [
    {
     "name": "stdout",
     "output_type": "stream",
     "text": [
      "<class 'pandas.core.frame.DataFrame'>\n",
      "RangeIndex: 753 entries, 0 to 752\n",
      "Data columns (total 7 columns):\n",
      " #   Column     Non-Null Count  Dtype  \n",
      "---  ------     --------------  -----  \n",
      " 0   Date       753 non-null    object \n",
      " 1   Open       753 non-null    float64\n",
      " 2   High       753 non-null    float64\n",
      " 3   Low        753 non-null    float64\n",
      " 4   Close      753 non-null    float64\n",
      " 5   Adj Close  753 non-null    float64\n",
      " 6   Volume     753 non-null    int64  \n",
      "dtypes: float64(5), int64(1), object(1)\n",
      "memory usage: 41.3+ KB\n"
     ]
    }
   ],
   "source": [
    "stock_df.sample(10)\n",
    "stock_df.info()"
   ]
  },
  {
   "cell_type": "code",
   "execution_count": 25,
   "id": "04c067d9",
   "metadata": {},
   "outputs": [
    {
     "data": {
      "text/html": [
       "<div>\n",
       "<style scoped>\n",
       "    .dataframe tbody tr th:only-of-type {\n",
       "        vertical-align: middle;\n",
       "    }\n",
       "\n",
       "    .dataframe tbody tr th {\n",
       "        vertical-align: top;\n",
       "    }\n",
       "\n",
       "    .dataframe thead th {\n",
       "        text-align: right;\n",
       "    }\n",
       "</style>\n",
       "<table border=\"1\" class=\"dataframe\">\n",
       "  <thead>\n",
       "    <tr style=\"text-align: right;\">\n",
       "      <th></th>\n",
       "      <th>title</th>\n",
       "      <th>link</th>\n",
       "      <th>pub_date</th>\n",
       "      <th>cleaned_text</th>\n",
       "      <th>sentiment</th>\n",
       "      <th>Date</th>\n",
       "      <th>Open</th>\n",
       "      <th>High</th>\n",
       "      <th>Low</th>\n",
       "      <th>Close</th>\n",
       "      <th>Adj Close</th>\n",
       "      <th>Volume</th>\n",
       "    </tr>\n",
       "  </thead>\n",
       "  <tbody>\n",
       "    <tr>\n",
       "      <th>740</th>\n",
       "      <td>FANG Stock's Lists Of Problems Keeps Growing -...</td>\n",
       "      <td>https://news.google.com/rss/articles/CBMiRWh0d...</td>\n",
       "      <td>2022-08-16</td>\n",
       "      <td>fang stock lists problems keeps growing invest...</td>\n",
       "      <td>0.00</td>\n",
       "      <td>2022-08-16</td>\n",
       "      <td>122.320000</td>\n",
       "      <td>123.227997</td>\n",
       "      <td>121.535004</td>\n",
       "      <td>122.510002</td>\n",
       "      <td>122.370750</td>\n",
       "      <td>15626200</td>\n",
       "    </tr>\n",
       "    <tr>\n",
       "      <th>825</th>\n",
       "      <td>Alphabet just had its worst day since March 20...</td>\n",
       "      <td>https://news.google.com/rss/articles/CBMiXWh0d...</td>\n",
       "      <td>2022-10-26</td>\n",
       "      <td>alphabet worst day since march 2020 covid shut...</td>\n",
       "      <td>-1.00</td>\n",
       "      <td>2022-10-26</td>\n",
       "      <td>96.760002</td>\n",
       "      <td>98.540001</td>\n",
       "      <td>94.570000</td>\n",
       "      <td>94.820000</td>\n",
       "      <td>94.712219</td>\n",
       "      <td>71504300</td>\n",
       "    </tr>\n",
       "    <tr>\n",
       "      <th>146</th>\n",
       "      <td>Korea Web Giant Naver Mulls U.S. Bond, IPO to ...</td>\n",
       "      <td>https://news.google.com/rss/articles/CBMiTGh0d...</td>\n",
       "      <td>2021-04-21</td>\n",
       "      <td>korea web giant naver mulls u bond ipo take go...</td>\n",
       "      <td>0.00</td>\n",
       "      <td>2021-04-21</td>\n",
       "      <td>114.262497</td>\n",
       "      <td>114.765999</td>\n",
       "      <td>112.928497</td>\n",
       "      <td>114.664497</td>\n",
       "      <td>114.534164</td>\n",
       "      <td>23930000</td>\n",
       "    </tr>\n",
       "    <tr>\n",
       "      <th>95</th>\n",
       "      <td>Bad news for Android: Study finds Google colle...</td>\n",
       "      <td>https://news.google.com/rss/articles/CBMiTGh0d...</td>\n",
       "      <td>2021-04-01</td>\n",
       "      <td>bad news android study finds google collets 20...</td>\n",
       "      <td>-0.70</td>\n",
       "      <td>2021-04-01</td>\n",
       "      <td>104.897499</td>\n",
       "      <td>107.147003</td>\n",
       "      <td>104.844498</td>\n",
       "      <td>106.887497</td>\n",
       "      <td>106.765999</td>\n",
       "      <td>33980000</td>\n",
       "    </tr>\n",
       "    <tr>\n",
       "      <th>136</th>\n",
       "      <td>What Biden's Tax Plan Means For Amazon, Google...</td>\n",
       "      <td>https://news.google.com/rss/articles/CBMiaGh0d...</td>\n",
       "      <td>2021-04-08</td>\n",
       "      <td>biden tax plan means amazon google facebook ap...</td>\n",
       "      <td>0.00</td>\n",
       "      <td>2021-04-08</td>\n",
       "      <td>113.898003</td>\n",
       "      <td>114.200249</td>\n",
       "      <td>112.884003</td>\n",
       "      <td>113.272003</td>\n",
       "      <td>113.143250</td>\n",
       "      <td>27166000</td>\n",
       "    </tr>\n",
       "    <tr>\n",
       "      <th>1348</th>\n",
       "      <td>Trending tickers: Google | AstraZeneca | Hargr...</td>\n",
       "      <td>https://news.google.com/rss/articles/CBMicWh0d...</td>\n",
       "      <td>2023-12-12</td>\n",
       "      <td>trending tickers google astrazeneca hargreaves...</td>\n",
       "      <td>0.00</td>\n",
       "      <td>2023-12-12</td>\n",
       "      <td>133.270004</td>\n",
       "      <td>134.539993</td>\n",
       "      <td>132.830002</td>\n",
       "      <td>133.639999</td>\n",
       "      <td>133.488098</td>\n",
       "      <td>26584000</td>\n",
       "    </tr>\n",
       "    <tr>\n",
       "      <th>173</th>\n",
       "      <td>How Google's $150 billion advertising business...</td>\n",
       "      <td>https://news.google.com/rss/articles/CBMiX2h0d...</td>\n",
       "      <td>2021-05-18</td>\n",
       "      <td>google 150 billion advertising business works ...</td>\n",
       "      <td>0.00</td>\n",
       "      <td>2021-05-18</td>\n",
       "      <td>116.845299</td>\n",
       "      <td>117.157501</td>\n",
       "      <td>115.157997</td>\n",
       "      <td>115.171501</td>\n",
       "      <td>115.040588</td>\n",
       "      <td>17302000</td>\n",
       "    </tr>\n",
       "    <tr>\n",
       "      <th>144</th>\n",
       "      <td>Google tops the list of most valuable media br...</td>\n",
       "      <td>https://news.google.com/rss/articles/CBMihQFod...</td>\n",
       "      <td>2021-04-21</td>\n",
       "      <td>google tops list valuable media brands us 191 ...</td>\n",
       "      <td>0.00</td>\n",
       "      <td>2021-04-21</td>\n",
       "      <td>114.262497</td>\n",
       "      <td>114.765999</td>\n",
       "      <td>112.928497</td>\n",
       "      <td>114.664497</td>\n",
       "      <td>114.534164</td>\n",
       "      <td>23930000</td>\n",
       "    </tr>\n",
       "    <tr>\n",
       "      <th>1064</th>\n",
       "      <td>Stock Markets Today: First Republic, Microsoft...</td>\n",
       "      <td>https://news.google.com/rss/articles/CBMifGh0d...</td>\n",
       "      <td>2023-04-25</td>\n",
       "      <td>stock markets today first republic microsoft g...</td>\n",
       "      <td>0.25</td>\n",
       "      <td>2023-04-25</td>\n",
       "      <td>106.610001</td>\n",
       "      <td>107.440002</td>\n",
       "      <td>104.559998</td>\n",
       "      <td>104.610001</td>\n",
       "      <td>104.491096</td>\n",
       "      <td>31408100</td>\n",
       "    </tr>\n",
       "    <tr>\n",
       "      <th>271</th>\n",
       "      <td>Google discontinues the Pixel 4a 5G and Pixel ...</td>\n",
       "      <td>https://news.google.com/rss/articles/CBMiUWh0d...</td>\n",
       "      <td>2021-08-20</td>\n",
       "      <td>google discontinues pixel 4a 5g pixel 5 androi...</td>\n",
       "      <td>0.00</td>\n",
       "      <td>2021-08-20</td>\n",
       "      <td>137.082993</td>\n",
       "      <td>138.614502</td>\n",
       "      <td>136.466995</td>\n",
       "      <td>138.436996</td>\n",
       "      <td>138.279648</td>\n",
       "      <td>15564000</td>\n",
       "    </tr>\n",
       "  </tbody>\n",
       "</table>\n",
       "</div>"
      ],
      "text/plain": [
       "                                                  title  \\\n",
       "740   FANG Stock's Lists Of Problems Keeps Growing -...   \n",
       "825   Alphabet just had its worst day since March 20...   \n",
       "146   Korea Web Giant Naver Mulls U.S. Bond, IPO to ...   \n",
       "95    Bad news for Android: Study finds Google colle...   \n",
       "136   What Biden's Tax Plan Means For Amazon, Google...   \n",
       "1348  Trending tickers: Google | AstraZeneca | Hargr...   \n",
       "173   How Google's $150 billion advertising business...   \n",
       "144   Google tops the list of most valuable media br...   \n",
       "1064  Stock Markets Today: First Republic, Microsoft...   \n",
       "271   Google discontinues the Pixel 4a 5G and Pixel ...   \n",
       "\n",
       "                                                   link    pub_date  \\\n",
       "740   https://news.google.com/rss/articles/CBMiRWh0d...  2022-08-16   \n",
       "825   https://news.google.com/rss/articles/CBMiXWh0d...  2022-10-26   \n",
       "146   https://news.google.com/rss/articles/CBMiTGh0d...  2021-04-21   \n",
       "95    https://news.google.com/rss/articles/CBMiTGh0d...  2021-04-01   \n",
       "136   https://news.google.com/rss/articles/CBMiaGh0d...  2021-04-08   \n",
       "1348  https://news.google.com/rss/articles/CBMicWh0d...  2023-12-12   \n",
       "173   https://news.google.com/rss/articles/CBMiX2h0d...  2021-05-18   \n",
       "144   https://news.google.com/rss/articles/CBMihQFod...  2021-04-21   \n",
       "1064  https://news.google.com/rss/articles/CBMifGh0d...  2023-04-25   \n",
       "271   https://news.google.com/rss/articles/CBMiUWh0d...  2021-08-20   \n",
       "\n",
       "                                           cleaned_text  sentiment  \\\n",
       "740   fang stock lists problems keeps growing invest...       0.00   \n",
       "825   alphabet worst day since march 2020 covid shut...      -1.00   \n",
       "146   korea web giant naver mulls u bond ipo take go...       0.00   \n",
       "95    bad news android study finds google collets 20...      -0.70   \n",
       "136   biden tax plan means amazon google facebook ap...       0.00   \n",
       "1348  trending tickers google astrazeneca hargreaves...       0.00   \n",
       "173   google 150 billion advertising business works ...       0.00   \n",
       "144   google tops list valuable media brands us 191 ...       0.00   \n",
       "1064  stock markets today first republic microsoft g...       0.25   \n",
       "271   google discontinues pixel 4a 5g pixel 5 androi...       0.00   \n",
       "\n",
       "            Date        Open        High         Low       Close   Adj Close  \\\n",
       "740   2022-08-16  122.320000  123.227997  121.535004  122.510002  122.370750   \n",
       "825   2022-10-26   96.760002   98.540001   94.570000   94.820000   94.712219   \n",
       "146   2021-04-21  114.262497  114.765999  112.928497  114.664497  114.534164   \n",
       "95    2021-04-01  104.897499  107.147003  104.844498  106.887497  106.765999   \n",
       "136   2021-04-08  113.898003  114.200249  112.884003  113.272003  113.143250   \n",
       "1348  2023-12-12  133.270004  134.539993  132.830002  133.639999  133.488098   \n",
       "173   2021-05-18  116.845299  117.157501  115.157997  115.171501  115.040588   \n",
       "144   2021-04-21  114.262497  114.765999  112.928497  114.664497  114.534164   \n",
       "1064  2023-04-25  106.610001  107.440002  104.559998  104.610001  104.491096   \n",
       "271   2021-08-20  137.082993  138.614502  136.466995  138.436996  138.279648   \n",
       "\n",
       "        Volume  \n",
       "740   15626200  \n",
       "825   71504300  \n",
       "146   23930000  \n",
       "95    33980000  \n",
       "136   27166000  \n",
       "1348  26584000  \n",
       "173   17302000  \n",
       "144   23930000  \n",
       "1064  31408100  \n",
       "271   15564000  "
      ]
     },
     "execution_count": 25,
     "metadata": {},
     "output_type": "execute_result"
    }
   ],
   "source": [
    "merged_df.sample(10)\n"
   ]
  },
  {
   "cell_type": "code",
   "execution_count": 26,
   "id": "cbde7f86",
   "metadata": {},
   "outputs": [
    {
     "data": {
      "text/plain": [
       "title           0\n",
       "link            0\n",
       "pub_date        0\n",
       "cleaned_text    0\n",
       "sentiment       0\n",
       "Date            0\n",
       "Open            0\n",
       "High            0\n",
       "Low             0\n",
       "Close           0\n",
       "Adj Close       0\n",
       "Volume          0\n",
       "dtype: int64"
      ]
     },
     "execution_count": 26,
     "metadata": {},
     "output_type": "execute_result"
    }
   ],
   "source": [
    "merged_df.isnull().sum()"
   ]
  },
  {
   "cell_type": "code",
   "execution_count": 27,
   "id": "0c271343",
   "metadata": {},
   "outputs": [
    {
     "name": "stdout",
     "output_type": "stream",
     "text": [
      "<class 'pandas.core.frame.DataFrame'>\n",
      "RangeIndex: 1402 entries, 0 to 1401\n",
      "Data columns (total 12 columns):\n",
      " #   Column        Non-Null Count  Dtype  \n",
      "---  ------        --------------  -----  \n",
      " 0   title         1402 non-null   object \n",
      " 1   link          1402 non-null   object \n",
      " 2   pub_date      1402 non-null   object \n",
      " 3   cleaned_text  1402 non-null   object \n",
      " 4   sentiment     1402 non-null   float64\n",
      " 5   Date          1402 non-null   object \n",
      " 6   Open          1402 non-null   float64\n",
      " 7   High          1402 non-null   float64\n",
      " 8   Low           1402 non-null   float64\n",
      " 9   Close         1402 non-null   float64\n",
      " 10  Adj Close     1402 non-null   float64\n",
      " 11  Volume        1402 non-null   int64  \n",
      "dtypes: float64(6), int64(1), object(5)\n",
      "memory usage: 131.6+ KB\n"
     ]
    }
   ],
   "source": [
    "merged_df.info()\n"
   ]
  },
  {
   "cell_type": "code",
   "execution_count": 28,
   "id": "c0039a8e",
   "metadata": {},
   "outputs": [
    {
     "data": {
      "text/plain": [
       "[<matplotlib.lines.Line2D at 0x151ad898890>]"
      ]
     },
     "execution_count": 28,
     "metadata": {},
     "output_type": "execute_result"
    },
    {
     "data": {
      "image/png": "[encoded data removed]",
      "text/plain": [
       "<Figure size 640x480 with 1 Axes>"
      ]
     },
     "metadata": {},
     "output_type": "display_data"
    }
   ],
   "source": [
    "plt.plot(merged_df['Date'],merged_df['sentiment'])"
   ]
  },
  {
   "cell_type": "code",
   "execution_count": null,
   "id": "08be4bca",
   "metadata": {},
   "outputs": [],
   "source": [
    "\n",
    "\n",
    "\n"
   ]
  },
  {
   "cell_type": "code",
   "execution_count": null,
   "id": "1e5efe19",
   "metadata": {},
   "outputs": [],
   "source": [
    "# Price fluctuation"
   ]
  },
  {
   "cell_type": "code",
   "execution_count": 30,
   "id": "a1f17c97",
   "metadata": {},
   "outputs": [
    {
     "data": {
      "text/html": [
       "<div>\n",
       "<style scoped>\n",
       "    .dataframe tbody tr th:only-of-type {\n",
       "        vertical-align: middle;\n",
       "    }\n",
       "\n",
       "    .dataframe tbody tr th {\n",
       "        vertical-align: top;\n",
       "    }\n",
       "\n",
       "    .dataframe thead th {\n",
       "        text-align: right;\n",
       "    }\n",
       "</style>\n",
       "<table border=\"1\" class=\"dataframe\">\n",
       "  <thead>\n",
       "    <tr style=\"text-align: right;\">\n",
       "      <th></th>\n",
       "      <th>title</th>\n",
       "      <th>link</th>\n",
       "      <th>pub_date</th>\n",
       "      <th>cleaned_text</th>\n",
       "      <th>sentiment</th>\n",
       "      <th>Date</th>\n",
       "      <th>Open</th>\n",
       "      <th>High</th>\n",
       "      <th>Low</th>\n",
       "      <th>Close</th>\n",
       "      <th>Adj Close</th>\n",
       "      <th>Volume</th>\n",
       "      <th>price_movement</th>\n",
       "    </tr>\n",
       "  </thead>\n",
       "  <tbody>\n",
       "    <tr>\n",
       "      <th>836</th>\n",
       "      <td>3 Reasons to Buy Alphabet Stock After Its Late...</td>\n",
       "      <td>https://news.google.com/rss/articles/CBMiXWh0d...</td>\n",
       "      <td>2022-11-03</td>\n",
       "      <td>3 reasons buy alphabet stock latest price drop...</td>\n",
       "      <td>0.55</td>\n",
       "      <td>2022-11-03</td>\n",
       "      <td>86.345001</td>\n",
       "      <td>86.550003</td>\n",
       "      <td>83.449997</td>\n",
       "      <td>83.489998</td>\n",
       "      <td>83.395096</td>\n",
       "      <td>48510400</td>\n",
       "      <td>increase</td>\n",
       "    </tr>\n",
       "    <tr>\n",
       "      <th>80</th>\n",
       "      <td>GameStop's stock price plunges 60 per cent as ...</td>\n",
       "      <td>https://news.google.com/rss/articles/CBMihgFod...</td>\n",
       "      <td>2021-02-03</td>\n",
       "      <td>gamestop stock price plunges 60 per cent reddi...</td>\n",
       "      <td>0.00</td>\n",
       "      <td>2021-02-03</td>\n",
       "      <td>103.650002</td>\n",
       "      <td>105.824997</td>\n",
       "      <td>100.918999</td>\n",
       "      <td>103.503502</td>\n",
       "      <td>103.385857</td>\n",
       "      <td>82364000</td>\n",
       "      <td>decrease</td>\n",
       "    </tr>\n",
       "    <tr>\n",
       "      <th>913</th>\n",
       "      <td>Google's Pixel Watch charger is finally back i...</td>\n",
       "      <td>https://news.google.com/rss/articles/CBMiPWh0d...</td>\n",
       "      <td>2022-12-21</td>\n",
       "      <td>google pixel watch charger finally back stock ...</td>\n",
       "      <td>0.00</td>\n",
       "      <td>2022-12-21</td>\n",
       "      <td>89.730003</td>\n",
       "      <td>90.915001</td>\n",
       "      <td>88.910004</td>\n",
       "      <td>90.250000</td>\n",
       "      <td>90.147415</td>\n",
       "      <td>20336400</td>\n",
       "      <td>decrease</td>\n",
       "    </tr>\n",
       "    <tr>\n",
       "      <th>746</th>\n",
       "      <td>FANGMAN isn't haunting Indian investors as opt...</td>\n",
       "      <td>https://news.google.com/rss/articles/CBMikAFod...</td>\n",
       "      <td>2022-07-28</td>\n",
       "      <td>fangman haunting indian investors optimism gro...</td>\n",
       "      <td>0.00</td>\n",
       "      <td>2022-07-28</td>\n",
       "      <td>112.800003</td>\n",
       "      <td>114.699997</td>\n",
       "      <td>111.850998</td>\n",
       "      <td>114.589996</td>\n",
       "      <td>114.459747</td>\n",
       "      <td>23303800</td>\n",
       "      <td>increase</td>\n",
       "    </tr>\n",
       "    <tr>\n",
       "      <th>1158</th>\n",
       "      <td>Alphabet Stock Climbs After Earnings As Google...</td>\n",
       "      <td>https://news.google.com/rss/articles/CBMiXmh0d...</td>\n",
       "      <td>2023-07-25</td>\n",
       "      <td>alphabet stock climbs earnings google cloud sa...</td>\n",
       "      <td>0.00</td>\n",
       "      <td>2023-07-25</td>\n",
       "      <td>121.879997</td>\n",
       "      <td>123.690002</td>\n",
       "      <td>121.529999</td>\n",
       "      <td>122.790001</td>\n",
       "      <td>122.650429</td>\n",
       "      <td>31820800</td>\n",
       "      <td>increase</td>\n",
       "    </tr>\n",
       "    <tr>\n",
       "      <th>301</th>\n",
       "      <td>Geolocated dataset of Chinese overseas develop...</td>\n",
       "      <td>https://news.google.com/rss/articles/CBMiMmh0d...</td>\n",
       "      <td>2021-09-20</td>\n",
       "      <td>geolocated dataset chinese overseas developmen...</td>\n",
       "      <td>0.00</td>\n",
       "      <td>2021-09-20</td>\n",
       "      <td>139.000198</td>\n",
       "      <td>139.362503</td>\n",
       "      <td>137.052994</td>\n",
       "      <td>139.016998</td>\n",
       "      <td>138.858978</td>\n",
       "      <td>34918000</td>\n",
       "      <td>increase</td>\n",
       "    </tr>\n",
       "    <tr>\n",
       "      <th>706</th>\n",
       "      <td>Sergey Brin Might Score $100 Million Profit by...</td>\n",
       "      <td>https://news.google.com/rss/articles/CBMid2h0d...</td>\n",
       "      <td>2022-07-25</td>\n",
       "      <td>sergey brin might score 100 million profit sel...</td>\n",
       "      <td>0.00</td>\n",
       "      <td>2022-07-25</td>\n",
       "      <td>108.879997</td>\n",
       "      <td>110.580002</td>\n",
       "      <td>107.010002</td>\n",
       "      <td>108.209999</td>\n",
       "      <td>108.086998</td>\n",
       "      <td>28289900</td>\n",
       "      <td>decrease</td>\n",
       "    </tr>\n",
       "    <tr>\n",
       "      <th>525</th>\n",
       "      <td>Tesla, Apple, Amazon, Google, 4 other US stock...</td>\n",
       "      <td>https://news.google.com/rss/articles/CBMidmh0d...</td>\n",
       "      <td>2022-03-03</td>\n",
       "      <td>tesla apple amazon google 4 us stocks start tr...</td>\n",
       "      <td>0.00</td>\n",
       "      <td>2022-03-03</td>\n",
       "      <td>135.978500</td>\n",
       "      <td>136.713806</td>\n",
       "      <td>133.431000</td>\n",
       "      <td>134.307999</td>\n",
       "      <td>134.155334</td>\n",
       "      <td>19780000</td>\n",
       "      <td>decrease</td>\n",
       "    </tr>\n",
       "    <tr>\n",
       "      <th>1394</th>\n",
       "      <td>Google parent Alphabet at 2-month high on AI-l...</td>\n",
       "      <td>https://news.google.com/rss/articles/CBMibmh0d...</td>\n",
       "      <td>2023-12-20</td>\n",
       "      <td>google parent alphabet 2 month high ai led ad ...</td>\n",
       "      <td>0.16</td>\n",
       "      <td>2023-12-20</td>\n",
       "      <td>140.330002</td>\n",
       "      <td>143.078003</td>\n",
       "      <td>139.410004</td>\n",
       "      <td>139.660004</td>\n",
       "      <td>139.501251</td>\n",
       "      <td>33507300</td>\n",
       "      <td>increase</td>\n",
       "    </tr>\n",
       "    <tr>\n",
       "      <th>1080</th>\n",
       "      <td>Bill Ackman, Stanley Druckenmiller, Others Go ...</td>\n",
       "      <td>https://news.google.com/rss/articles/CBMiggFod...</td>\n",
       "      <td>2023-05-18</td>\n",
       "      <td>bill ackman stanley druckenmiller others go ai...</td>\n",
       "      <td>0.00</td>\n",
       "      <td>2023-05-18</td>\n",
       "      <td>121.559998</td>\n",
       "      <td>123.900002</td>\n",
       "      <td>121.489998</td>\n",
       "      <td>123.519997</td>\n",
       "      <td>123.379593</td>\n",
       "      <td>27014500</td>\n",
       "      <td>decrease</td>\n",
       "    </tr>\n",
       "  </tbody>\n",
       "</table>\n",
       "</div>"
      ],
      "text/plain": [
       "                                                  title  \\\n",
       "836   3 Reasons to Buy Alphabet Stock After Its Late...   \n",
       "80    GameStop's stock price plunges 60 per cent as ...   \n",
       "913   Google's Pixel Watch charger is finally back i...   \n",
       "746   FANGMAN isn't haunting Indian investors as opt...   \n",
       "1158  Alphabet Stock Climbs After Earnings As Google...   \n",
       "301   Geolocated dataset of Chinese overseas develop...   \n",
       "706   Sergey Brin Might Score $100 Million Profit by...   \n",
       "525   Tesla, Apple, Amazon, Google, 4 other US stock...   \n",
       "1394  Google parent Alphabet at 2-month high on AI-l...   \n",
       "1080  Bill Ackman, Stanley Druckenmiller, Others Go ...   \n",
       "\n",
       "                                                   link    pub_date  \\\n",
       "836   https://news.google.com/rss/articles/CBMiXWh0d...  2022-11-03   \n",
       "80    https://news.google.com/rss/articles/CBMihgFod...  2021-02-03   \n",
       "913   https://news.google.com/rss/articles/CBMiPWh0d...  2022-12-21   \n",
       "746   https://news.google.com/rss/articles/CBMikAFod...  2022-07-28   \n",
       "1158  https://news.google.com/rss/articles/CBMiXmh0d...  2023-07-25   \n",
       "301   https://news.google.com/rss/articles/CBMiMmh0d...  2021-09-20   \n",
       "706   https://news.google.com/rss/articles/CBMid2h0d...  2022-07-25   \n",
       "525   https://news.google.com/rss/articles/CBMidmh0d...  2022-03-03   \n",
       "1394  https://news.google.com/rss/articles/CBMibmh0d...  2023-12-20   \n",
       "1080  https://news.google.com/rss/articles/CBMiggFod...  2023-05-18   \n",
       "\n",
       "                                           cleaned_text  sentiment  \\\n",
       "836   3 reasons buy alphabet stock latest price drop...       0.55   \n",
       "80    gamestop stock price plunges 60 per cent reddi...       0.00   \n",
       "913   google pixel watch charger finally back stock ...       0.00   \n",
       "746   fangman haunting indian investors optimism gro...       0.00   \n",
       "1158  alphabet stock climbs earnings google cloud sa...       0.00   \n",
       "301   geolocated dataset chinese overseas developmen...       0.00   \n",
       "706   sergey brin might score 100 million profit sel...       0.00   \n",
       "525   tesla apple amazon google 4 us stocks start tr...       0.00   \n",
       "1394  google parent alphabet 2 month high ai led ad ...       0.16   \n",
       "1080  bill ackman stanley druckenmiller others go ai...       0.00   \n",
       "\n",
       "            Date        Open        High         Low       Close   Adj Close  \\\n",
       "836   2022-11-03   86.345001   86.550003   83.449997   83.489998   83.395096   \n",
       "80    2021-02-03  103.650002  105.824997  100.918999  103.503502  103.385857   \n",
       "913   2022-12-21   89.730003   90.915001   88.910004   90.250000   90.147415   \n",
       "746   2022-07-28  112.800003  114.699997  111.850998  114.589996  114.459747   \n",
       "1158  2023-07-25  121.879997  123.690002  121.529999  122.790001  122.650429   \n",
       "301   2021-09-20  139.000198  139.362503  137.052994  139.016998  138.858978   \n",
       "706   2022-07-25  108.879997  110.580002  107.010002  108.209999  108.086998   \n",
       "525   2022-03-03  135.978500  136.713806  133.431000  134.307999  134.155334   \n",
       "1394  2023-12-20  140.330002  143.078003  139.410004  139.660004  139.501251   \n",
       "1080  2023-05-18  121.559998  123.900002  121.489998  123.519997  123.379593   \n",
       "\n",
       "        Volume price_movement  \n",
       "836   48510400       increase  \n",
       "80    82364000       decrease  \n",
       "913   20336400       decrease  \n",
       "746   23303800       increase  \n",
       "1158  31820800       increase  \n",
       "301   34918000       increase  \n",
       "706   28289900       decrease  \n",
       "525   19780000       decrease  \n",
       "1394  33507300       increase  \n",
       "1080  27014500       decrease  "
      ]
     },
     "execution_count": 30,
     "metadata": {},
     "output_type": "execute_result"
    }
   ],
   "source": [
    "def calculate_price_movement(row, horizon_days=1):\n",
    "    pub_date = row['pub_date']\n",
    "    future_date = pub_date + datetime.timedelta(days=horizon_days)\n",
    "    \n",
    "    future_price = stock_df[stock_df['Date'] == future_date]['Close'].values\n",
    "    if len(future_price) == 0:\n",
    "        return None\n",
    "    \n",
    "    future_price = future_price[0]\n",
    "    current_price = row['Close']\n",
    "    \n",
    "    if future_price > current_price:\n",
    "        return 'increase'\n",
    "    elif future_price < current_price:\n",
    "        return 'decrease'\n",
    "    else:\n",
    "        return 'no change'\n",
    "\n",
    "# Apply the function to the merged DataFrame\n",
    "merged_df['price_movement'] = merged_df.apply(calculate_price_movement, axis=1)\n",
    "merged_df.dropna(subset=['price_movement'], inplace=True)\n",
    "\n",
    "# Save the final labeled data\n",
    "merged_df.to_csv('labeled_data.csv', index=False)\n",
    "merged_df.sample(10)"
   ]
  },
  {
   "cell_type": "code",
   "execution_count": null,
   "id": "c3327525",
   "metadata": {},
   "outputs": [],
   "source": [
    "##Extract Features"
   ]
  },
  {
   "cell_type": "code",
   "execution_count": 32,
   "id": "897a6b90",
   "metadata": {},
   "outputs": [
    {
     "data": {
      "text/html": [
       "<div>\n",
       "<style scoped>\n",
       "    .dataframe tbody tr th:only-of-type {\n",
       "        vertical-align: middle;\n",
       "    }\n",
       "\n",
       "    .dataframe tbody tr th {\n",
       "        vertical-align: top;\n",
       "    }\n",
       "\n",
       "    .dataframe thead th {\n",
       "        text-align: right;\n",
       "    }\n",
       "</style>\n",
       "<table border=\"1\" class=\"dataframe\">\n",
       "  <thead>\n",
       "    <tr style=\"text-align: right;\">\n",
       "      <th></th>\n",
       "      <th>title</th>\n",
       "      <th>link</th>\n",
       "      <th>pub_date</th>\n",
       "      <th>cleaned_text</th>\n",
       "      <th>sentiment</th>\n",
       "      <th>Date</th>\n",
       "      <th>Open</th>\n",
       "      <th>High</th>\n",
       "      <th>Low</th>\n",
       "      <th>Close</th>\n",
       "      <th>...</th>\n",
       "      <th>yields</th>\n",
       "      <th>york</th>\n",
       "      <th>youtube</th>\n",
       "      <th>ytechb</th>\n",
       "      <th>zdnet</th>\n",
       "      <th>zealand</th>\n",
       "      <th>zee</th>\n",
       "      <th>zomato</th>\n",
       "      <th>zoom</th>\n",
       "      <th>zuckerberg</th>\n",
       "    </tr>\n",
       "  </thead>\n",
       "  <tbody>\n",
       "    <tr>\n",
       "      <th>0</th>\n",
       "      <td>Google workers form new labour union, a tech i...</td>\n",
       "      <td>https://news.google.com/rss/articles/CBMic2h0d...</td>\n",
       "      <td>2021-01-04</td>\n",
       "      <td>google workers form new labour union tech indu...</td>\n",
       "      <td>0.136364</td>\n",
       "      <td>2021-01-04</td>\n",
       "      <td>87.876999</td>\n",
       "      <td>88.032501</td>\n",
       "      <td>85.392502</td>\n",
       "      <td>86.412003</td>\n",
       "      <td>...</td>\n",
       "      <td>0.0</td>\n",
       "      <td>0.0</td>\n",
       "      <td>0.0</td>\n",
       "      <td>0.0</td>\n",
       "      <td>0.0</td>\n",
       "      <td>0.0</td>\n",
       "      <td>0.0</td>\n",
       "      <td>0.0</td>\n",
       "      <td>0.0</td>\n",
       "      <td>0.0</td>\n",
       "    </tr>\n",
       "    <tr>\n",
       "      <th>1</th>\n",
       "      <td>Google workers have formed the company's first...</td>\n",
       "      <td>https://news.google.com/rss/articles/CBMiRGh0d...</td>\n",
       "      <td>2021-01-04</td>\n",
       "      <td>google workers formed company first ever union...</td>\n",
       "      <td>0.250000</td>\n",
       "      <td>2021-01-04</td>\n",
       "      <td>87.876999</td>\n",
       "      <td>88.032501</td>\n",
       "      <td>85.392502</td>\n",
       "      <td>86.412003</td>\n",
       "      <td>...</td>\n",
       "      <td>0.0</td>\n",
       "      <td>0.0</td>\n",
       "      <td>0.0</td>\n",
       "      <td>0.0</td>\n",
       "      <td>0.0</td>\n",
       "      <td>0.0</td>\n",
       "      <td>0.0</td>\n",
       "      <td>0.0</td>\n",
       "      <td>0.0</td>\n",
       "      <td>0.0</td>\n",
       "    </tr>\n",
       "    <tr>\n",
       "      <th>2</th>\n",
       "      <td>Google removes 30 loan apps from Play store af...</td>\n",
       "      <td>https://news.google.com/rss/articles/CBMilQFod...</td>\n",
       "      <td>2021-01-14</td>\n",
       "      <td>google removes 30 loan apps play store rbi red...</td>\n",
       "      <td>0.000000</td>\n",
       "      <td>2021-01-14</td>\n",
       "      <td>87.681000</td>\n",
       "      <td>88.750504</td>\n",
       "      <td>86.669998</td>\n",
       "      <td>87.009003</td>\n",
       "      <td>...</td>\n",
       "      <td>0.0</td>\n",
       "      <td>0.0</td>\n",
       "      <td>0.0</td>\n",
       "      <td>0.0</td>\n",
       "      <td>0.0</td>\n",
       "      <td>0.0</td>\n",
       "      <td>0.0</td>\n",
       "      <td>0.0</td>\n",
       "      <td>0.0</td>\n",
       "      <td>0.0</td>\n",
       "    </tr>\n",
       "    <tr>\n",
       "      <th>3</th>\n",
       "      <td>NLP in Finance: Question Answering - Towards D...</td>\n",
       "      <td>https://news.google.com/rss/articles/CBMiggFod...</td>\n",
       "      <td>2021-01-14</td>\n",
       "      <td>nlp finance question answering towards data sc...</td>\n",
       "      <td>0.000000</td>\n",
       "      <td>2021-01-14</td>\n",
       "      <td>87.681000</td>\n",
       "      <td>88.750504</td>\n",
       "      <td>86.669998</td>\n",
       "      <td>87.009003</td>\n",
       "      <td>...</td>\n",
       "      <td>0.0</td>\n",
       "      <td>0.0</td>\n",
       "      <td>0.0</td>\n",
       "      <td>0.0</td>\n",
       "      <td>0.0</td>\n",
       "      <td>0.0</td>\n",
       "      <td>0.0</td>\n",
       "      <td>0.0</td>\n",
       "      <td>0.0</td>\n",
       "      <td>0.0</td>\n",
       "    </tr>\n",
       "    <tr>\n",
       "      <th>4</th>\n",
       "      <td>Fitbit Closes $2.1 Billion Google Merger - The...</td>\n",
       "      <td>https://news.google.com/rss/articles/CBMiWWh0d...</td>\n",
       "      <td>2021-01-14</td>\n",
       "      <td>fitbit closes 2 1 billion google merger thestreet</td>\n",
       "      <td>0.000000</td>\n",
       "      <td>2021-01-14</td>\n",
       "      <td>87.681000</td>\n",
       "      <td>88.750504</td>\n",
       "      <td>86.669998</td>\n",
       "      <td>87.009003</td>\n",
       "      <td>...</td>\n",
       "      <td>0.0</td>\n",
       "      <td>0.0</td>\n",
       "      <td>0.0</td>\n",
       "      <td>0.0</td>\n",
       "      <td>0.0</td>\n",
       "      <td>0.0</td>\n",
       "      <td>0.0</td>\n",
       "      <td>0.0</td>\n",
       "      <td>0.0</td>\n",
       "      <td>0.0</td>\n",
       "    </tr>\n",
       "    <tr>\n",
       "      <th>...</th>\n",
       "      <td>...</td>\n",
       "      <td>...</td>\n",
       "      <td>...</td>\n",
       "      <td>...</td>\n",
       "      <td>...</td>\n",
       "      <td>...</td>\n",
       "      <td>...</td>\n",
       "      <td>...</td>\n",
       "      <td>...</td>\n",
       "      <td>...</td>\n",
       "      <td>...</td>\n",
       "      <td>...</td>\n",
       "      <td>...</td>\n",
       "      <td>...</td>\n",
       "      <td>...</td>\n",
       "      <td>...</td>\n",
       "      <td>...</td>\n",
       "      <td>...</td>\n",
       "      <td>...</td>\n",
       "      <td>...</td>\n",
       "      <td>...</td>\n",
       "    </tr>\n",
       "    <tr>\n",
       "      <th>1159</th>\n",
       "      <td>Dow Jones Rises On Key Economic Data; Google L...</td>\n",
       "      <td>https://news.google.com/rss/articles/CBMimQFod...</td>\n",
       "      <td>2023-12-26</td>\n",
       "      <td>dow jones rises key economic data google leads...</td>\n",
       "      <td>0.066667</td>\n",
       "      <td>2023-12-26</td>\n",
       "      <td>142.979996</td>\n",
       "      <td>143.945007</td>\n",
       "      <td>142.500000</td>\n",
       "      <td>142.820007</td>\n",
       "      <td>...</td>\n",
       "      <td>0.0</td>\n",
       "      <td>0.0</td>\n",
       "      <td>0.0</td>\n",
       "      <td>0.0</td>\n",
       "      <td>0.0</td>\n",
       "      <td>0.0</td>\n",
       "      <td>0.0</td>\n",
       "      <td>0.0</td>\n",
       "      <td>0.0</td>\n",
       "      <td>0.0</td>\n",
       "    </tr>\n",
       "    <tr>\n",
       "      <th>1160</th>\n",
       "      <td>Magnificent 7 Tech Stocks Will Outperform the ...</td>\n",
       "      <td>https://news.google.com/rss/articles/CBMieGh0d...</td>\n",
       "      <td>2023-12-26</td>\n",
       "      <td>magnificent 7 tech stocks outperform p 493 202...</td>\n",
       "      <td>1.000000</td>\n",
       "      <td>2023-12-26</td>\n",
       "      <td>142.979996</td>\n",
       "      <td>143.945007</td>\n",
       "      <td>142.500000</td>\n",
       "      <td>142.820007</td>\n",
       "      <td>...</td>\n",
       "      <td>0.0</td>\n",
       "      <td>0.0</td>\n",
       "      <td>0.0</td>\n",
       "      <td>0.0</td>\n",
       "      <td>0.0</td>\n",
       "      <td>0.0</td>\n",
       "      <td>0.0</td>\n",
       "      <td>0.0</td>\n",
       "      <td>0.0</td>\n",
       "      <td>0.0</td>\n",
       "    </tr>\n",
       "    <tr>\n",
       "      <th>1161</th>\n",
       "      <td>ChatGPT vs. Google Bard: Which had better stoc...</td>\n",
       "      <td>https://news.google.com/rss/articles/CBMiVmh0d...</td>\n",
       "      <td>2023-12-26</td>\n",
       "      <td>chatgpt vs google bard better stock prediction...</td>\n",
       "      <td>0.416667</td>\n",
       "      <td>2023-12-26</td>\n",
       "      <td>142.979996</td>\n",
       "      <td>143.945007</td>\n",
       "      <td>142.500000</td>\n",
       "      <td>142.820007</td>\n",
       "      <td>...</td>\n",
       "      <td>0.0</td>\n",
       "      <td>0.0</td>\n",
       "      <td>0.0</td>\n",
       "      <td>0.0</td>\n",
       "      <td>0.0</td>\n",
       "      <td>0.0</td>\n",
       "      <td>0.0</td>\n",
       "      <td>0.0</td>\n",
       "      <td>0.0</td>\n",
       "      <td>0.0</td>\n",
       "    </tr>\n",
       "    <tr>\n",
       "      <th>1162</th>\n",
       "      <td>AI Predictions: 3 Penny Stocks That Google Gem...</td>\n",
       "      <td>https://news.google.com/rss/articles/CBMiS2h0d...</td>\n",
       "      <td>2023-12-27</td>\n",
       "      <td>ai predictions 3 penny stocks google gemini sa...</td>\n",
       "      <td>0.000000</td>\n",
       "      <td>2023-12-27</td>\n",
       "      <td>142.830002</td>\n",
       "      <td>143.320007</td>\n",
       "      <td>141.050995</td>\n",
       "      <td>141.440002</td>\n",
       "      <td>...</td>\n",
       "      <td>0.0</td>\n",
       "      <td>0.0</td>\n",
       "      <td>0.0</td>\n",
       "      <td>0.0</td>\n",
       "      <td>0.0</td>\n",
       "      <td>0.0</td>\n",
       "      <td>0.0</td>\n",
       "      <td>0.0</td>\n",
       "      <td>0.0</td>\n",
       "      <td>0.0</td>\n",
       "    </tr>\n",
       "    <tr>\n",
       "      <th>1163</th>\n",
       "      <td>Google stock soars to 18-month high; Here's wh...</td>\n",
       "      <td>https://news.google.com/rss/articles/CBMiQmh0d...</td>\n",
       "      <td>2023-12-21</td>\n",
       "      <td>google stock soars 18 month high finbold finan...</td>\n",
       "      <td>0.246667</td>\n",
       "      <td>2023-12-21</td>\n",
       "      <td>140.770004</td>\n",
       "      <td>142.029999</td>\n",
       "      <td>140.473007</td>\n",
       "      <td>141.800003</td>\n",
       "      <td>...</td>\n",
       "      <td>0.0</td>\n",
       "      <td>0.0</td>\n",
       "      <td>0.0</td>\n",
       "      <td>0.0</td>\n",
       "      <td>0.0</td>\n",
       "      <td>0.0</td>\n",
       "      <td>0.0</td>\n",
       "      <td>0.0</td>\n",
       "      <td>0.0</td>\n",
       "      <td>0.0</td>\n",
       "    </tr>\n",
       "  </tbody>\n",
       "</table>\n",
       "<p>1164 rows × 1013 columns</p>\n",
       "</div>"
      ],
      "text/plain": [
       "                                                  title  \\\n",
       "0     Google workers form new labour union, a tech i...   \n",
       "1     Google workers have formed the company's first...   \n",
       "2     Google removes 30 loan apps from Play store af...   \n",
       "3     NLP in Finance: Question Answering - Towards D...   \n",
       "4     Fitbit Closes $2.1 Billion Google Merger - The...   \n",
       "...                                                 ...   \n",
       "1159  Dow Jones Rises On Key Economic Data; Google L...   \n",
       "1160  Magnificent 7 Tech Stocks Will Outperform the ...   \n",
       "1161  ChatGPT vs. Google Bard: Which had better stoc...   \n",
       "1162  AI Predictions: 3 Penny Stocks That Google Gem...   \n",
       "1163  Google stock soars to 18-month high; Here's wh...   \n",
       "\n",
       "                                                   link    pub_date  \\\n",
       "0     https://news.google.com/rss/articles/CBMic2h0d...  2021-01-04   \n",
       "1     https://news.google.com/rss/articles/CBMiRGh0d...  2021-01-04   \n",
       "2     https://news.google.com/rss/articles/CBMilQFod...  2021-01-14   \n",
       "3     https://news.google.com/rss/articles/CBMiggFod...  2021-01-14   \n",
       "4     https://news.google.com/rss/articles/CBMiWWh0d...  2021-01-14   \n",
       "...                                                 ...         ...   \n",
       "1159  https://news.google.com/rss/articles/CBMimQFod...  2023-12-26   \n",
       "1160  https://news.google.com/rss/articles/CBMieGh0d...  2023-12-26   \n",
       "1161  https://news.google.com/rss/articles/CBMiVmh0d...  2023-12-26   \n",
       "1162  https://news.google.com/rss/articles/CBMiS2h0d...  2023-12-27   \n",
       "1163  https://news.google.com/rss/articles/CBMiQmh0d...  2023-12-21   \n",
       "\n",
       "                                           cleaned_text  sentiment  \\\n",
       "0     google workers form new labour union tech indu...   0.136364   \n",
       "1     google workers formed company first ever union...   0.250000   \n",
       "2     google removes 30 loan apps play store rbi red...   0.000000   \n",
       "3     nlp finance question answering towards data sc...   0.000000   \n",
       "4     fitbit closes 2 1 billion google merger thestreet   0.000000   \n",
       "...                                                 ...        ...   \n",
       "1159  dow jones rises key economic data google leads...   0.066667   \n",
       "1160  magnificent 7 tech stocks outperform p 493 202...   1.000000   \n",
       "1161  chatgpt vs google bard better stock prediction...   0.416667   \n",
       "1162  ai predictions 3 penny stocks google gemini sa...   0.000000   \n",
       "1163  google stock soars 18 month high finbold finan...   0.246667   \n",
       "\n",
       "            Date        Open        High         Low       Close  ...  yields  \\\n",
       "0     2021-01-04   87.876999   88.032501   85.392502   86.412003  ...     0.0   \n",
       "1     2021-01-04   87.876999   88.032501   85.392502   86.412003  ...     0.0   \n",
       "2     2021-01-14   87.681000   88.750504   86.669998   87.009003  ...     0.0   \n",
       "3     2021-01-14   87.681000   88.750504   86.669998   87.009003  ...     0.0   \n",
       "4     2021-01-14   87.681000   88.750504   86.669998   87.009003  ...     0.0   \n",
       "...          ...         ...         ...         ...         ...  ...     ...   \n",
       "1159  2023-12-26  142.979996  143.945007  142.500000  142.820007  ...     0.0   \n",
       "1160  2023-12-26  142.979996  143.945007  142.500000  142.820007  ...     0.0   \n",
       "1161  2023-12-26  142.979996  143.945007  142.500000  142.820007  ...     0.0   \n",
       "1162  2023-12-27  142.830002  143.320007  141.050995  141.440002  ...     0.0   \n",
       "1163  2023-12-21  140.770004  142.029999  140.473007  141.800003  ...     0.0   \n",
       "\n",
       "      york youtube  ytechb  zdnet  zealand  zee  zomato  zoom  zuckerberg  \n",
       "0      0.0     0.0     0.0    0.0      0.0  0.0     0.0   0.0         0.0  \n",
       "1      0.0     0.0     0.0    0.0      0.0  0.0     0.0   0.0         0.0  \n",
       "2      0.0     0.0     0.0    0.0      0.0  0.0     0.0   0.0         0.0  \n",
       "3      0.0     0.0     0.0    0.0      0.0  0.0     0.0   0.0         0.0  \n",
       "4      0.0     0.0     0.0    0.0      0.0  0.0     0.0   0.0         0.0  \n",
       "...    ...     ...     ...    ...      ...  ...     ...   ...         ...  \n",
       "1159   0.0     0.0     0.0    0.0      0.0  0.0     0.0   0.0         0.0  \n",
       "1160   0.0     0.0     0.0    0.0      0.0  0.0     0.0   0.0         0.0  \n",
       "1161   0.0     0.0     0.0    0.0      0.0  0.0     0.0   0.0         0.0  \n",
       "1162   0.0     0.0     0.0    0.0      0.0  0.0     0.0   0.0         0.0  \n",
       "1163   0.0     0.0     0.0    0.0      0.0  0.0     0.0   0.0         0.0  \n",
       "\n",
       "[1164 rows x 1013 columns]"
      ]
     },
     "execution_count": 32,
     "metadata": {},
     "output_type": "execute_result"
    }
   ],
   "source": [
    "# 1. Frequencies of words in news\n",
    "\n",
    "\n",
    "tfidf_vectorizer = TfidfVectorizer(max_features=1000)\n",
    "tfidf_features = tfidf_vectorizer.fit_transform(merged_df['cleaned_text']).toarray()\n",
    "tfidf_df = pd.DataFrame(tfidf_features, columns=tfidf_vectorizer.get_feature_names_out())\n",
    "merged_df = pd.concat([merged_df.reset_index(drop=True), tfidf_df.reset_index(drop=True)], axis=1)\n",
    "merged_df"
   ]
  },
  {
   "cell_type": "code",
   "execution_count": 33,
   "id": "8fde617d",
   "metadata": {},
   "outputs": [
    {
     "data": {
      "text/html": [
       "<div>\n",
       "<style scoped>\n",
       "    .dataframe tbody tr th:only-of-type {\n",
       "        vertical-align: middle;\n",
       "    }\n",
       "\n",
       "    .dataframe tbody tr th {\n",
       "        vertical-align: top;\n",
       "    }\n",
       "\n",
       "    .dataframe thead th {\n",
       "        text-align: right;\n",
       "    }\n",
       "</style>\n",
       "<table border=\"1\" class=\"dataframe\">\n",
       "  <thead>\n",
       "    <tr style=\"text-align: right;\">\n",
       "      <th></th>\n",
       "      <th>title</th>\n",
       "      <th>link</th>\n",
       "      <th>pub_date</th>\n",
       "      <th>cleaned_text</th>\n",
       "      <th>sentiment</th>\n",
       "      <th>Date</th>\n",
       "      <th>Open</th>\n",
       "      <th>High</th>\n",
       "      <th>Low</th>\n",
       "      <th>Close</th>\n",
       "      <th>...</th>\n",
       "      <th>topic_0</th>\n",
       "      <th>topic_1</th>\n",
       "      <th>topic_2</th>\n",
       "      <th>topic_3</th>\n",
       "      <th>topic_4</th>\n",
       "      <th>topic_5</th>\n",
       "      <th>topic_6</th>\n",
       "      <th>topic_7</th>\n",
       "      <th>topic_8</th>\n",
       "      <th>topic_9</th>\n",
       "    </tr>\n",
       "  </thead>\n",
       "  <tbody>\n",
       "    <tr>\n",
       "      <th>0</th>\n",
       "      <td>Google workers form new labour union, a tech i...</td>\n",
       "      <td>https://news.google.com/rss/articles/CBMic2h0d...</td>\n",
       "      <td>2021-01-04</td>\n",
       "      <td>google workers form new labour union tech indu...</td>\n",
       "      <td>0.136364</td>\n",
       "      <td>2021-01-04</td>\n",
       "      <td>87.876999</td>\n",
       "      <td>88.032501</td>\n",
       "      <td>85.392502</td>\n",
       "      <td>86.412003</td>\n",
       "      <td>...</td>\n",
       "      <td>0.028887</td>\n",
       "      <td>0.028886</td>\n",
       "      <td>0.028886</td>\n",
       "      <td>0.028888</td>\n",
       "      <td>0.028886</td>\n",
       "      <td>0.028892</td>\n",
       "      <td>0.028889</td>\n",
       "      <td>0.740013</td>\n",
       "      <td>0.028886</td>\n",
       "      <td>0.028887</td>\n",
       "    </tr>\n",
       "    <tr>\n",
       "      <th>1</th>\n",
       "      <td>Google workers have formed the company's first...</td>\n",
       "      <td>https://news.google.com/rss/articles/CBMiRGh0d...</td>\n",
       "      <td>2021-01-04</td>\n",
       "      <td>google workers formed company first ever union...</td>\n",
       "      <td>0.250000</td>\n",
       "      <td>2021-01-04</td>\n",
       "      <td>87.876999</td>\n",
       "      <td>88.032501</td>\n",
       "      <td>85.392502</td>\n",
       "      <td>86.412003</td>\n",
       "      <td>...</td>\n",
       "      <td>0.028530</td>\n",
       "      <td>0.028519</td>\n",
       "      <td>0.028517</td>\n",
       "      <td>0.028520</td>\n",
       "      <td>0.028515</td>\n",
       "      <td>0.743312</td>\n",
       "      <td>0.028517</td>\n",
       "      <td>0.028528</td>\n",
       "      <td>0.028522</td>\n",
       "      <td>0.028520</td>\n",
       "    </tr>\n",
       "    <tr>\n",
       "      <th>2</th>\n",
       "      <td>Google removes 30 loan apps from Play store af...</td>\n",
       "      <td>https://news.google.com/rss/articles/CBMilQFod...</td>\n",
       "      <td>2021-01-14</td>\n",
       "      <td>google removes 30 loan apps play store rbi red...</td>\n",
       "      <td>0.000000</td>\n",
       "      <td>2021-01-14</td>\n",
       "      <td>87.681000</td>\n",
       "      <td>88.750504</td>\n",
       "      <td>86.669998</td>\n",
       "      <td>87.009003</td>\n",
       "      <td>...</td>\n",
       "      <td>0.480423</td>\n",
       "      <td>0.023776</td>\n",
       "      <td>0.023771</td>\n",
       "      <td>0.023771</td>\n",
       "      <td>0.023774</td>\n",
       "      <td>0.023773</td>\n",
       "      <td>0.023773</td>\n",
       "      <td>0.023771</td>\n",
       "      <td>0.023772</td>\n",
       "      <td>0.329398</td>\n",
       "    </tr>\n",
       "    <tr>\n",
       "      <th>3</th>\n",
       "      <td>NLP in Finance: Question Answering - Towards D...</td>\n",
       "      <td>https://news.google.com/rss/articles/CBMiggFod...</td>\n",
       "      <td>2021-01-14</td>\n",
       "      <td>nlp finance question answering towards data sc...</td>\n",
       "      <td>0.000000</td>\n",
       "      <td>2021-01-14</td>\n",
       "      <td>87.681000</td>\n",
       "      <td>88.750504</td>\n",
       "      <td>86.669998</td>\n",
       "      <td>87.009003</td>\n",
       "      <td>...</td>\n",
       "      <td>0.031688</td>\n",
       "      <td>0.031685</td>\n",
       "      <td>0.031684</td>\n",
       "      <td>0.714829</td>\n",
       "      <td>0.031685</td>\n",
       "      <td>0.031685</td>\n",
       "      <td>0.031687</td>\n",
       "      <td>0.031687</td>\n",
       "      <td>0.031685</td>\n",
       "      <td>0.031686</td>\n",
       "    </tr>\n",
       "    <tr>\n",
       "      <th>4</th>\n",
       "      <td>Fitbit Closes $2.1 Billion Google Merger - The...</td>\n",
       "      <td>https://news.google.com/rss/articles/CBMiWWh0d...</td>\n",
       "      <td>2021-01-14</td>\n",
       "      <td>fitbit closes 2 1 billion google merger thestreet</td>\n",
       "      <td>0.000000</td>\n",
       "      <td>2021-01-14</td>\n",
       "      <td>87.681000</td>\n",
       "      <td>88.750504</td>\n",
       "      <td>86.669998</td>\n",
       "      <td>87.009003</td>\n",
       "      <td>...</td>\n",
       "      <td>0.035178</td>\n",
       "      <td>0.035179</td>\n",
       "      <td>0.035182</td>\n",
       "      <td>0.035178</td>\n",
       "      <td>0.035179</td>\n",
       "      <td>0.035179</td>\n",
       "      <td>0.035180</td>\n",
       "      <td>0.035191</td>\n",
       "      <td>0.683369</td>\n",
       "      <td>0.035184</td>\n",
       "    </tr>\n",
       "  </tbody>\n",
       "</table>\n",
       "<p>5 rows × 1023 columns</p>\n",
       "</div>"
      ],
      "text/plain": [
       "                                               title  \\\n",
       "0  Google workers form new labour union, a tech i...   \n",
       "1  Google workers have formed the company's first...   \n",
       "2  Google removes 30 loan apps from Play store af...   \n",
       "3  NLP in Finance: Question Answering - Towards D...   \n",
       "4  Fitbit Closes $2.1 Billion Google Merger - The...   \n",
       "\n",
       "                                                link    pub_date  \\\n",
       "0  https://news.google.com/rss/articles/CBMic2h0d...  2021-01-04   \n",
       "1  https://news.google.com/rss/articles/CBMiRGh0d...  2021-01-04   \n",
       "2  https://news.google.com/rss/articles/CBMilQFod...  2021-01-14   \n",
       "3  https://news.google.com/rss/articles/CBMiggFod...  2021-01-14   \n",
       "4  https://news.google.com/rss/articles/CBMiWWh0d...  2021-01-14   \n",
       "\n",
       "                                        cleaned_text  sentiment        Date  \\\n",
       "0  google workers form new labour union tech indu...   0.136364  2021-01-04   \n",
       "1  google workers formed company first ever union...   0.250000  2021-01-04   \n",
       "2  google removes 30 loan apps play store rbi red...   0.000000  2021-01-14   \n",
       "3  nlp finance question answering towards data sc...   0.000000  2021-01-14   \n",
       "4  fitbit closes 2 1 billion google merger thestreet   0.000000  2021-01-14   \n",
       "\n",
       "        Open       High        Low      Close  ...   topic_0   topic_1  \\\n",
       "0  87.876999  88.032501  85.392502  86.412003  ...  0.028887  0.028886   \n",
       "1  87.876999  88.032501  85.392502  86.412003  ...  0.028530  0.028519   \n",
       "2  87.681000  88.750504  86.669998  87.009003  ...  0.480423  0.023776   \n",
       "3  87.681000  88.750504  86.669998  87.009003  ...  0.031688  0.031685   \n",
       "4  87.681000  88.750504  86.669998  87.009003  ...  0.035178  0.035179   \n",
       "\n",
       "    topic_2   topic_3   topic_4   topic_5   topic_6   topic_7   topic_8  \\\n",
       "0  0.028886  0.028888  0.028886  0.028892  0.028889  0.740013  0.028886   \n",
       "1  0.028517  0.028520  0.028515  0.743312  0.028517  0.028528  0.028522   \n",
       "2  0.023771  0.023771  0.023774  0.023773  0.023773  0.023771  0.023772   \n",
       "3  0.031684  0.714829  0.031685  0.031685  0.031687  0.031687  0.031685   \n",
       "4  0.035182  0.035178  0.035179  0.035179  0.035180  0.035191  0.683369   \n",
       "\n",
       "    topic_9  \n",
       "0  0.028887  \n",
       "1  0.028520  \n",
       "2  0.329398  \n",
       "3  0.031686  \n",
       "4  0.035184  \n",
       "\n",
       "[5 rows x 1023 columns]"
      ]
     },
     "execution_count": 33,
     "metadata": {},
     "output_type": "execute_result"
    }
   ],
   "source": [
    "#2. Topic Modelling\n",
    "\n",
    "lda_model = LatentDirichletAllocation(n_components=10, random_state=42)\n",
    "lda_features = lda_model.fit_transform(tfidf_features)\n",
    "#addition in the data frame\n",
    "for i in range(lda_features.shape[1]):\n",
    "    merged_df[f'topic_{i}'] = lda_features[:, i]\n",
    "    \n",
    "merged_df.to_csv('labeled_data_with_features.csv', index=False)\n",
    "merged_df.head()"
   ]
  },
  {
   "cell_type": "code",
   "execution_count": null,
   "id": "1657375f",
   "metadata": {},
   "outputs": [],
   "source": []
  },
  {
   "cell_type": "code",
   "execution_count": null,
   "id": "c2cfc07d",
   "metadata": {},
   "outputs": [],
   "source": [
    "#Label Encoding on price fluctuation feature\n"
   ]
  },
  {
   "cell_type": "code",
   "execution_count": 35,
   "id": "4a9200cb",
   "metadata": {},
   "outputs": [
    {
     "data": {
      "text/html": [
       "<div>\n",
       "<style scoped>\n",
       "    .dataframe tbody tr th:only-of-type {\n",
       "        vertical-align: middle;\n",
       "    }\n",
       "\n",
       "    .dataframe tbody tr th {\n",
       "        vertical-align: top;\n",
       "    }\n",
       "\n",
       "    .dataframe thead th {\n",
       "        text-align: right;\n",
       "    }\n",
       "</style>\n",
       "<table border=\"1\" class=\"dataframe\">\n",
       "  <thead>\n",
       "    <tr style=\"text-align: right;\">\n",
       "      <th></th>\n",
       "      <th>encoded_movement</th>\n",
       "      <th>price_movement</th>\n",
       "    </tr>\n",
       "  </thead>\n",
       "  <tbody>\n",
       "    <tr>\n",
       "      <th>0</th>\n",
       "      <td>1</td>\n",
       "      <td>increase</td>\n",
       "    </tr>\n",
       "    <tr>\n",
       "      <th>1</th>\n",
       "      <td>1</td>\n",
       "      <td>increase</td>\n",
       "    </tr>\n",
       "    <tr>\n",
       "      <th>2</th>\n",
       "      <td>0</td>\n",
       "      <td>decrease</td>\n",
       "    </tr>\n",
       "    <tr>\n",
       "      <th>3</th>\n",
       "      <td>0</td>\n",
       "      <td>decrease</td>\n",
       "    </tr>\n",
       "    <tr>\n",
       "      <th>4</th>\n",
       "      <td>0</td>\n",
       "      <td>decrease</td>\n",
       "    </tr>\n",
       "    <tr>\n",
       "      <th>...</th>\n",
       "      <td>...</td>\n",
       "      <td>...</td>\n",
       "    </tr>\n",
       "    <tr>\n",
       "      <th>1159</th>\n",
       "      <td>0</td>\n",
       "      <td>decrease</td>\n",
       "    </tr>\n",
       "    <tr>\n",
       "      <th>1160</th>\n",
       "      <td>0</td>\n",
       "      <td>decrease</td>\n",
       "    </tr>\n",
       "    <tr>\n",
       "      <th>1161</th>\n",
       "      <td>0</td>\n",
       "      <td>decrease</td>\n",
       "    </tr>\n",
       "    <tr>\n",
       "      <th>1162</th>\n",
       "      <td>0</td>\n",
       "      <td>decrease</td>\n",
       "    </tr>\n",
       "    <tr>\n",
       "      <th>1163</th>\n",
       "      <td>1</td>\n",
       "      <td>increase</td>\n",
       "    </tr>\n",
       "  </tbody>\n",
       "</table>\n",
       "<p>1164 rows × 2 columns</p>\n",
       "</div>"
      ],
      "text/plain": [
       "      encoded_movement price_movement\n",
       "0                    1       increase\n",
       "1                    1       increase\n",
       "2                    0       decrease\n",
       "3                    0       decrease\n",
       "4                    0       decrease\n",
       "...                ...            ...\n",
       "1159                 0       decrease\n",
       "1160                 0       decrease\n",
       "1161                 0       decrease\n",
       "1162                 0       decrease\n",
       "1163                 1       increase\n",
       "\n",
       "[1164 rows x 2 columns]"
      ]
     },
     "execution_count": 35,
     "metadata": {},
     "output_type": "execute_result"
    }
   ],
   "source": [
    "# Load the labeled dataset with features\n",
    "data = pd.read_csv('labeled_data_with_features.csv')\n",
    "\n",
    "# Label encode the target variable\n",
    "label_encoder = LabelEncoder()\n",
    "data['encoded_movement'] = label_encoder.fit_transform(data['price_movement'])\n",
    "data[['encoded_movement','price_movement']]"
   ]
  },
  {
   "cell_type": "code",
   "execution_count": null,
   "id": "db40db9a",
   "metadata": {},
   "outputs": [],
   "source": []
  },
  {
   "cell_type": "code",
   "execution_count": 36,
   "id": "9537a58b",
   "metadata": {},
   "outputs": [],
   "source": [
    "#Training to Predict Price Movements\n",
    "\n",
    "\n",
    "# Select relevant features and target\n",
    "X = data[['sentiment'] + list(data.columns[-1:-11])]  # Sentiment and TF-IDF f eatures\n",
    "y = data['encoded_movement']  # Encoded target variable\n",
    "\n",
    "# Split data into train and test sets\n",
    "X_train, X_test, y_train, y_test = train_test_split(X, y, test_size=0.2, random_state=42)\n",
    "y_test = label_encoder.inverse_transform(y_test)\n",
    "\n",
    "# Convert categorical labels to binary labels using numpy\n",
    "y_test_binary = np.where(y_test == 'increase', 1, 0)"
   ]
  },
  {
   "cell_type": "markdown",
   "id": "2d9acaa1",
   "metadata": {},
   "source": [
    "Training on various ML algorithms\n",
    "\n",
    "1. Logistic Regression\n",
    "2. Support Vector Machine\n",
    "3. Random Forest\n"
   ]
  },
  {
   "cell_type": "code",
   "execution_count": 38,
   "id": "ca8413c2",
   "metadata": {},
   "outputs": [
    {
     "name": "stdout",
     "output_type": "stream",
     "text": [
      "Logistic Regression:\n",
      "              precision    recall  f1-score   support\n",
      "\n",
      "           0       0.51      0.84      0.64       118\n",
      "           1       0.53      0.18      0.27       115\n",
      "\n",
      "    accuracy                           0.52       233\n",
      "   macro avg       0.52      0.51      0.45       233\n",
      "weighted avg       0.52      0.52      0.46       233\n",
      "\n",
      "Accuracy: 0.5150214592274678\n"
     ]
    }
   ],
   "source": [
    "## 1. LR\n",
    "\n",
    "logreg = LogisticRegression(max_iter=1000, random_state=42)\n",
    "logreg.fit(X_train, y_train)\n",
    "y_pred_logreg = logreg.predict(X_test)\n",
    "y_pred_logreg = label_encoder.inverse_transform(y_pred_logreg)\n",
    "y_pred_logreg = np.where(y_pred_logreg == 'increase', 1, 0)\n",
    "\n",
    "# Evaluate models\n",
    "print(\"Logistic Regression:\")\n",
    "print(classification_report(y_test_binary, y_pred_logreg))\n",
    "print(\"Accuracy:\", accuracy_score(y_test_binary, y_pred_logreg))"
   ]
  },
  {
   "cell_type": "code",
   "execution_count": 39,
   "id": "5ed18993",
   "metadata": {},
   "outputs": [
    {
     "name": "stdout",
     "output_type": "stream",
     "text": [
      "\n",
      "Support Vector Machine (SVM):\n",
      "              precision    recall  f1-score   support\n",
      "\n",
      "           0       0.51      1.00      0.67       118\n",
      "           1       0.00      0.00      0.00       115\n",
      "\n",
      "    accuracy                           0.51       233\n",
      "   macro avg       0.25      0.50      0.34       233\n",
      "weighted avg       0.26      0.51      0.34       233\n",
      "\n",
      "Accuracy: 0.5064377682403434\n"
     ]
    }
   ],
   "source": [
    "## 2. SVM\n",
    "\n",
    "from sklearn.svm import SVC\n",
    "svm = SVC(kernel='linear', probability=True, random_state=42)\n",
    "svm.fit(X_train, y_train)\n",
    "y_pred_svm = svm.predict(X_test)\n",
    "y_pred_svm = label_encoder.inverse_transform(y_pred_svm)\n",
    "y_pred_svm = np.where(y_pred_svm == 'increase', 1, 0)\n",
    "\n",
    "print(\"\\nSupport Vector Machine (SVM):\")\n",
    "print(classification_report(y_test_binary, y_pred_svm))\n",
    "print(\"Accuracy:\", accuracy_score(y_test_binary, y_pred_svm))"
   ]
  },
  {
   "cell_type": "code",
   "execution_count": 40,
   "id": "4a1faa7c",
   "metadata": {},
   "outputs": [
    {
     "name": "stdout",
     "output_type": "stream",
     "text": [
      "\n",
      "Random Forest:\n",
      "              precision    recall  f1-score   support\n",
      "\n",
      "           0       0.53      0.81      0.64       118\n",
      "           1       0.57      0.27      0.37       115\n",
      "\n",
      "    accuracy                           0.54       233\n",
      "   macro avg       0.55      0.54      0.50       233\n",
      "weighted avg       0.55      0.54      0.51       233\n",
      "\n",
      "Accuracy: 0.5407725321888412\n"
     ]
    }
   ],
   "source": [
    "## Random Forest\n",
    "\n",
    "from sklearn.ensemble import RandomForestClassifier\n",
    "# Train Random Forest model\n",
    "rf = RandomForestClassifier(n_estimators=100, random_state=42)\n",
    "rf.fit(X_train, y_train)\n",
    "y_pred_rf = rf.predict(X_test)\n",
    "y_pred_rf = label_encoder.inverse_transform(y_pred_rf)\n",
    "y_pred_rf = np.where(y_pred_rf == 'increase', 1, 0)\n",
    "\n",
    "print(\"\\nRandom Forest:\")\n",
    "print(classification_report(y_test_binary, y_pred_rf))\n",
    "print(\"Accuracy:\", accuracy_score(y_test_binary, y_pred_rf))"
   ]
  },
  {
   "cell_type": "code",
   "execution_count": null,
   "id": "fc342ce6",
   "metadata": {},
   "outputs": [],
   "source": []
  },
  {
   "cell_type": "markdown",
   "id": "f57eaf14",
   "metadata": {},
   "source": [
    "Model Evaluation"
   ]
  },
  {
   "cell_type": "code",
   "execution_count": 41,
   "id": "7dcee6c8",
   "metadata": {},
   "outputs": [],
   "source": [
    "def evaluate_model(y_true, y_pred, model_name):\n",
    "    print(f\"Model: {model_name}\")\n",
    "    print(classification_report(y_true, y_pred))\n",
    "    print(\"Accuracy:\", accuracy_score(y_true, y_pred))\n",
    "    print(\"Confusion Matrix:\")\n",
    "    print(confusion_matrix(y_true, y_pred))\n",
    "    print()\n",
    "    "
   ]
  },
  {
   "cell_type": "code",
   "execution_count": 42,
   "id": "f1ad9394",
   "metadata": {},
   "outputs": [
    {
     "name": "stdout",
     "output_type": "stream",
     "text": [
      "Model: Logistic Regression\n",
      "              precision    recall  f1-score   support\n",
      "\n",
      "           0       0.51      0.84      0.64       118\n",
      "           1       0.53      0.18      0.27       115\n",
      "\n",
      "    accuracy                           0.52       233\n",
      "   macro avg       0.52      0.51      0.45       233\n",
      "weighted avg       0.52      0.52      0.46       233\n",
      "\n",
      "Accuracy: 0.5150214592274678\n",
      "Confusion Matrix:\n",
      "[[99 19]\n",
      " [94 21]]\n",
      "\n"
     ]
    }
   ],
   "source": [
    "# Evaluating LR\n",
    "\n",
    "evaluate_model(y_test_binary, y_pred_logreg, \"Logistic Regression\")"
   ]
  },
  {
   "cell_type": "code",
   "execution_count": 43,
   "id": "2dc7aa91",
   "metadata": {},
   "outputs": [
    {
     "name": "stdout",
     "output_type": "stream",
     "text": [
      "Model: Support Vector Machine (SVM)\n",
      "              precision    recall  f1-score   support\n",
      "\n",
      "           0       0.51      1.00      0.67       118\n",
      "           1       0.00      0.00      0.00       115\n",
      "\n",
      "    accuracy                           0.51       233\n",
      "   macro avg       0.25      0.50      0.34       233\n",
      "weighted avg       0.26      0.51      0.34       233\n",
      "\n",
      "Accuracy: 0.5064377682403434\n",
      "Confusion Matrix:\n",
      "[[118   0]\n",
      " [115   0]]\n",
      "\n"
     ]
    }
   ],
   "source": [
    "# Evaluating SVM\n",
    "\n",
    "evaluate_model(y_test_binary, y_pred_svm, \"Support Vector Machine (SVM)\")"
   ]
  },
  {
   "cell_type": "code",
   "execution_count": 44,
   "id": "7176c824",
   "metadata": {},
   "outputs": [
    {
     "name": "stdout",
     "output_type": "stream",
     "text": [
      "Model: Random Forest\n",
      "              precision    recall  f1-score   support\n",
      "\n",
      "           0       0.53      0.81      0.64       118\n",
      "           1       0.57      0.27      0.37       115\n",
      "\n",
      "    accuracy                           0.54       233\n",
      "   macro avg       0.55      0.54      0.50       233\n",
      "weighted avg       0.55      0.54      0.51       233\n",
      "\n",
      "Accuracy: 0.5407725321888412\n",
      "Confusion Matrix:\n",
      "[[95 23]\n",
      " [84 31]]\n",
      "\n"
     ]
    }
   ],
   "source": [
    "# Evaluating Random Forest\n",
    "\n",
    "evaluate_model(y_test_binary, y_pred_rf, \"Random Forest\")"
   ]
  },
  {
   "cell_type": "code",
   "execution_count": null,
   "id": "5709cfa5",
   "metadata": {},
   "outputs": [],
   "source": []
  },
  {
   "cell_type": "markdown",
   "id": "8d2e4f33",
   "metadata": {},
   "source": [
    "ROC AUC Curve"
   ]
  },
  {
   "cell_type": "code",
   "execution_count": 46,
   "id": "29afd43c",
   "metadata": {},
   "outputs": [],
   "source": [
    "# ROC-AUC Curve (assuming binary classification)\n",
    "def plot_roc_curve(y_true, y_pred_proba, model_name):\n",
    "    fpr, tpr, thresholds = roc_curve(y_true, y_pred_proba[:, 1])\n",
    "    roc_auc = auc(fpr, tpr)\n",
    "\n",
    "    plt.figure()\n",
    "    plt.plot(fpr, tpr, color='darkorange', lw=2, label=f'ROC curve (area = {roc_auc:.2f})')\n",
    "    plt.plot([0, 1], [0, 1], color='navy', lw=2, linestyle='--')\n",
    "    plt.xlabel('False Positive Rate')\n",
    "    plt.ylabel('True Positive Rate')\n",
    "    plt.title(f'ROC Curve - {model_name}')\n",
    "    plt.legend(loc=\"lower right\")\n",
    "    plt.show()"
   ]
  },
  {
   "cell_type": "code",
   "execution_count": 47,
   "id": "627c8819",
   "metadata": {},
   "outputs": [
    {
     "data": {
      "image/png": "[encoded data removed]",
      "text/plain": [
       "<Figure size 640x480 with 1 Axes>"
      ]
     },
     "metadata": {},
     "output_type": "display_data"
    }
   ],
   "source": [
    "## 1. LR\n",
    "\n",
    "# Get probabilities for Logistic Regression (required for ROC curve)\n",
    "y_pred_proba_logreg = logreg.predict_proba(X_test)\n",
    "# Plot ROC curve for Logistic Regression\n",
    "plot_roc_curve(y_test_binary, y_pred_proba_logreg, \"Logistic Regression\")"
   ]
  },
  {
   "cell_type": "code",
   "execution_count": 48,
   "id": "eca8aad5",
   "metadata": {},
   "outputs": [
    {
     "data": {
      "image/png": "[encoded data removed]",
      "text/plain": [
       "<Figure size 640x480 with 1 Axes>"
      ]
     },
     "metadata": {},
     "output_type": "display_data"
    }
   ],
   "source": [
    "##2. SVM\n",
    "\n",
    "# Get probabilities for SVM (required for ROC curve)\n",
    "y_pred_proba_svm = svm.predict_proba(X_test)\n",
    "\n",
    "# Plot ROC curve for SVM\n",
    "plot_roc_curve(y_test_binary, y_pred_proba_svm, \"Support Vector Machine (SVM)\")"
   ]
  },
  {
   "cell_type": "code",
   "execution_count": 49,
   "id": "e96d758e",
   "metadata": {},
   "outputs": [
    {
     "data": {
      "image/png": "[encoded data removed]",
      "text/plain": [
       "<Figure size 640x480 with 1 Axes>"
      ]
     },
     "metadata": {},
     "output_type": "display_data"
    }
   ],
   "source": [
    "##3. Random forest\n",
    "\n",
    "# Get probabilities for Random Forest (required for ROC curve)\n",
    "y_pred_proba_rf = rf.predict_proba(X_test)\n",
    "# Plot ROC curve for Random Forest\n",
    "plot_roc_curve(y_test_binary, y_pred_proba_rf, \"Random Forest\")"
   ]
  },
  {
   "cell_type": "code",
   "execution_count": null,
   "id": "009ddbc2",
   "metadata": {},
   "outputs": [],
   "source": []
  },
  {
   "cell_type": "code",
   "execution_count": null,
   "id": "df29690d",
   "metadata": {},
   "outputs": [],
   "source": []
  },
  {
   "cell_type": "markdown",
   "id": "cecb2f80",
   "metadata": {},
   "source": [
    "Price fluctuation using Neural Networks\n"
   ]
  },
  {
   "cell_type": "code",
   "execution_count": 51,
   "id": "ff00fdab",
   "metadata": {},
   "outputs": [],
   "source": [
    "\n",
    "\n",
    "# Select relevant features and target\n",
    "X_text = data['cleaned_text']  # Cleaned text features\n",
    "X_numeric = data.drop(['price_movement', 'cleaned_text'], axis=1)  # Numeric features\n",
    "y = data['encoded_movement']  # Encoded target variable\n",
    "\n",
    "# Split data into train and test sets\n",
    "X_text_train, X_text_test, X_numeric_train, X_numeric_test, y_train, y_test = train_test_split(\n",
    "    X_text, X_numeric, y, test_size=0.2, random_state=42\n",
    ")\n",
    "\n",
    "# Initialize TF-IDF vectorizer\n",
    "tfidf_vectorizer = TfidfVectorizer(max_features=1000)  # You can adjust max_features as needed\n",
    "X_train_tfidf = tfidf_vectorizer.fit_transform(X_text_train).toarray()\n",
    "X_test_tfidf = tfidf_vectorizer.transform(X_text_test).toarray()"
   ]
  },
  {
   "cell_type": "code",
   "execution_count": 52,
   "id": "161f8398",
   "metadata": {},
   "outputs": [],
   "source": [
    "\n",
    "import tensorflow as tf\n",
    "from tensorflow.keras.layers import Input, Dense, Concatenate, Dropout\n",
    "from tensorflow.keras.models import Model\n",
    "from tensorflow.keras.optimizers import Adam\n",
    "from tensorflow.keras.models import Sequential\n",
    "\n",
    "# Define neural network architecture\n",
    "model = Sequential([\n",
    "    Dense(128, activation='relu', input_dim=X_train_tfidf.shape[1]),\n",
    "    Dropout(0.5),\n",
    "    Dense(64, activation='relu'),\n",
    "    Dense(1, activation='sigmoid')\n",
    "])\n",
    "\n",
    "# Compile the model\n",
    "model.compile(optimizer='adam',\n",
    "              loss='binary_crossentropy',\n",
    "              metrics=['accuracy'])"
   ]
  },
  {
   "cell_type": "code",
   "execution_count": 53,
   "id": "a74b1827",
   "metadata": {},
   "outputs": [
    {
     "name": "stdout",
     "output_type": "stream",
     "text": [
      "Epoch 1/10\n",
      "\u001b[1m30/30\u001b[0m \u001b[32m━━━━━━━━━━━━━━━━━━━━\u001b[0m\u001b[37m\u001b[0m \u001b[1m2s\u001b[0m 10ms/step - accuracy: 0.4675 - loss: 0.6941 - val_accuracy: 0.5107 - val_loss: 0.6928\n",
      "Epoch 2/10\n",
      "\u001b[1m30/30\u001b[0m \u001b[32m━━━━━━━━━━━━━━━━━━━━\u001b[0m\u001b[37m\u001b[0m \u001b[1m0s\u001b[0m 4ms/step - accuracy: 0.6706 - loss: 0.6843 - val_accuracy: 0.4893 - val_loss: 0.6930\n",
      "Epoch 3/10\n",
      "\u001b[1m30/30\u001b[0m \u001b[32m━━━━━━━━━━━━━━━━━━━━\u001b[0m\u001b[37m\u001b[0m \u001b[1m0s\u001b[0m 4ms/step - accuracy: 0.7216 - loss: 0.6673 - val_accuracy: 0.5150 - val_loss: 0.6945\n",
      "Epoch 4/10\n",
      "\u001b[1m30/30\u001b[0m \u001b[32m━━━━━━━━━━━━━━━━━━━━\u001b[0m\u001b[37m\u001b[0m \u001b[1m0s\u001b[0m 4ms/step - accuracy: 0.8099 - loss: 0.6160 - val_accuracy: 0.5236 - val_loss: 0.7102\n",
      "Epoch 5/10\n",
      "\u001b[1m30/30\u001b[0m \u001b[32m━━━━━━━━━━━━━━━━━━━━\u001b[0m\u001b[37m\u001b[0m \u001b[1m0s\u001b[0m 4ms/step - accuracy: 0.8401 - loss: 0.5223 - val_accuracy: 0.4764 - val_loss: 0.7776\n",
      "Epoch 6/10\n",
      "\u001b[1m30/30\u001b[0m \u001b[32m━━━━━━━━━━━━━━━━━━━━\u001b[0m\u001b[37m\u001b[0m \u001b[1m0s\u001b[0m 4ms/step - accuracy: 0.8550 - loss: 0.4114 - val_accuracy: 0.4807 - val_loss: 0.8902\n",
      "Epoch 7/10\n",
      "\u001b[1m30/30\u001b[0m \u001b[32m━━━━━━━━━━━━━━━━━━━━\u001b[0m\u001b[37m\u001b[0m \u001b[1m0s\u001b[0m 4ms/step - accuracy: 0.9180 - loss: 0.2781 - val_accuracy: 0.5021 - val_loss: 1.0230\n",
      "Epoch 8/10\n",
      "\u001b[1m30/30\u001b[0m \u001b[32m━━━━━━━━━━━━━━━━━━━━\u001b[0m\u001b[37m\u001b[0m \u001b[1m0s\u001b[0m 4ms/step - accuracy: 0.9525 - loss: 0.1876 - val_accuracy: 0.5021 - val_loss: 1.1622\n",
      "Epoch 9/10\n",
      "\u001b[1m30/30\u001b[0m \u001b[32m━━━━━━━━━━━━━━━━━━━━\u001b[0m\u001b[37m\u001b[0m \u001b[1m0s\u001b[0m 4ms/step - accuracy: 0.9669 - loss: 0.1332 - val_accuracy: 0.4979 - val_loss: 1.3185\n",
      "Epoch 10/10\n",
      "\u001b[1m30/30\u001b[0m \u001b[32m━━━━━━━━━━━━━━━━━━━━\u001b[0m\u001b[37m\u001b[0m \u001b[1m0s\u001b[0m 4ms/step - accuracy: 0.9816 - loss: 0.0965 - val_accuracy: 0.4893 - val_loss: 1.4196\n",
      "\u001b[1m8/8\u001b[0m \u001b[32m━━━━━━━━━━━━━━━━━━━━\u001b[0m\u001b[37m\u001b[0m \u001b[1m0s\u001b[0m 6ms/step \n",
      "Classification Report:\n",
      "              precision    recall  f1-score   support\n",
      "\n",
      "           0       0.50      0.48      0.49       118\n",
      "           1       0.48      0.50      0.49       115\n",
      "\n",
      "    accuracy                           0.49       233\n",
      "   macro avg       0.49      0.49      0.49       233\n",
      "weighted avg       0.49      0.49      0.49       233\n",
      "\n",
      "Accuracy: 0.4892703862660944\n",
      "Confusion Matrix:\n",
      "[[57 61]\n",
      " [58 57]]\n"
     ]
    }
   ],
   "source": [
    "# Train the model\n",
    "\n",
    "model.fit(X_train_tfidf, y_train, epochs=10, batch_size=32, validation_data=(X_test_tfidf, y_test))\n",
    "\n",
    "# Evaluate the model\n",
    "y_pred = model.predict(X_test_tfidf)\n",
    "y_pred_binary = (y_pred > 0.5).astype(int)  # Convert probabilities to binary predictions\n",
    "\n",
    "print(\"Classification Report:\")\n",
    "print(classification_report(y_test, y_pred_binary))\n",
    "\n",
    "print(\"Accuracy:\", accuracy_score(y_test, y_pred_binary))\n",
    "\n",
    "print(\"Confusion Matrix:\")\n",
    "print(confusion_matrix(y_test, y_pred_binary))"
   ]
  },
  {
   "cell_type": "code",
   "execution_count": null,
   "id": "a5f68c6a",
   "metadata": {},
   "outputs": [],
   "source": []
  },
  {
   "cell_type": "markdown",
   "id": "47950de7",
   "metadata": {},
   "source": [
    "\n",
    "Neural Network Model Accuracy and Loss Curves"
   ]
  },
  {
   "cell_type": "code",
   "execution_count": 54,
   "id": "50ba5731",
   "metadata": {},
   "outputs": [
    {
     "name": "stdout",
     "output_type": "stream",
     "text": [
      "Epoch 1/10\n",
      "\u001b[1m30/30\u001b[0m \u001b[32m━━━━━━━━━━━━━━━━━━━━\u001b[0m\u001b[37m\u001b[0m \u001b[1m0s\u001b[0m 5ms/step - accuracy: 0.9860 - loss: 0.0705 - val_accuracy: 0.5150 - val_loss: 1.5333\n",
      "Epoch 2/10\n",
      "\u001b[1m30/30\u001b[0m \u001b[32m━━━━━━━━━━━━━━━━━━━━\u001b[0m\u001b[37m\u001b[0m \u001b[1m0s\u001b[0m 4ms/step - accuracy: 0.9780 - loss: 0.0851 - val_accuracy: 0.5021 - val_loss: 1.6149\n",
      "Epoch 3/10\n",
      "\u001b[1m30/30\u001b[0m \u001b[32m━━━━━━━━━━━━━━━━━━━━\u001b[0m\u001b[37m\u001b[0m \u001b[1m0s\u001b[0m 4ms/step - accuracy: 0.9809 - loss: 0.0553 - val_accuracy: 0.5107 - val_loss: 1.7240\n",
      "Epoch 4/10\n",
      "\u001b[1m30/30\u001b[0m \u001b[32m━━━━━━━━━━━━━━━━━━━━\u001b[0m\u001b[37m\u001b[0m \u001b[1m0s\u001b[0m 4ms/step - accuracy: 0.9934 - loss: 0.0382 - val_accuracy: 0.4979 - val_loss: 1.8161\n",
      "Epoch 5/10\n",
      "\u001b[1m30/30\u001b[0m \u001b[32m━━━━━━━━━━━━━━━━━━━━\u001b[0m\u001b[37m\u001b[0m \u001b[1m0s\u001b[0m 4ms/step - accuracy: 0.9927 - loss: 0.0310 - val_accuracy: 0.4979 - val_loss: 1.9046\n",
      "Epoch 6/10\n",
      "\u001b[1m30/30\u001b[0m \u001b[32m━━━━━━━━━━━━━━━━━━━━\u001b[0m\u001b[37m\u001b[0m \u001b[1m0s\u001b[0m 4ms/step - accuracy: 0.9913 - loss: 0.0324 - val_accuracy: 0.5021 - val_loss: 1.9781\n",
      "Epoch 7/10\n",
      "\u001b[1m30/30\u001b[0m \u001b[32m━━━━━━━━━━━━━━━━━━━━\u001b[0m\u001b[37m\u001b[0m \u001b[1m0s\u001b[0m 4ms/step - accuracy: 0.9949 - loss: 0.0260 - val_accuracy: 0.5150 - val_loss: 2.0258\n",
      "Epoch 8/10\n",
      "\u001b[1m30/30\u001b[0m \u001b[32m━━━━━━━━━━━━━━━━━━━━\u001b[0m\u001b[37m\u001b[0m \u001b[1m0s\u001b[0m 4ms/step - accuracy: 0.9986 - loss: 0.0192 - val_accuracy: 0.5021 - val_loss: 2.1006\n",
      "Epoch 9/10\n",
      "\u001b[1m30/30\u001b[0m \u001b[32m━━━━━━━━━━━━━━━━━━━━\u001b[0m\u001b[37m\u001b[0m \u001b[1m0s\u001b[0m 4ms/step - accuracy: 0.9934 - loss: 0.0229 - val_accuracy: 0.4936 - val_loss: 2.1393\n",
      "Epoch 10/10\n",
      "\u001b[1m30/30\u001b[0m \u001b[32m━━━━━━━━━━━━━━━━━━━━\u001b[0m\u001b[37m\u001b[0m \u001b[1m0s\u001b[0m 4ms/step - accuracy: 0.9945 - loss: 0.0189 - val_accuracy: 0.5021 - val_loss: 2.2032\n"
     ]
    },
    {
     "data": {
      "image/png": "[encoded data removed]",
      "text/plain": [
       "<Figure size 640x480 with 1 Axes>"
      ]
     },
     "metadata": {},
     "output_type": "display_data"
    },
    {
     "data": {
      "image/png": "[encoded data removed]",
      "text/plain": [
       "<Figure size 640x480 with 1 Axes>"
      ]
     },
     "metadata": {},
     "output_type": "display_data"
    }
   ],
   "source": [
    "# Train the model and capture the history\n",
    "history = model.fit(X_train_tfidf, y_train, epochs=10, batch_size=32, validation_data=(X_test_tfidf, y_test))\n",
    "\n",
    "# Plot training history\n",
    "def plot_history(history):\n",
    "    # Plot training & validation accuracy values\n",
    "    plt.plot(history.history['accuracy'])\n",
    "    plt.plot(history.history['val_accuracy'])\n",
    "    plt.title('Model accuracy')\n",
    "    plt.xlabel('Epoch')\n",
    "    plt.ylabel('Accuracy')\n",
    "    plt.legend(['Train', 'Test'], loc='upper left')\n",
    "    plt.show()\n",
    "\n",
    "    # Plot training & validation loss values\n",
    "    plt.plot(history.history['loss'])\n",
    "    plt.plot(history.history['val_loss'])\n",
    "    plt.title('Model loss')\n",
    "    plt.xlabel('Epoch')\n",
    "    plt.ylabel('Loss')\n",
    "    plt.legend(['Train', 'Test'], loc='upper left')\n",
    "    plt.show()\n",
    "\n",
    "# Plot the training history\n",
    "plot_history(history)\n"
   ]
  },
  {
   "cell_type": "code",
   "execution_count": null,
   "id": "a0dac10b",
   "metadata": {},
   "outputs": [],
   "source": []
  },
  {
   "cell_type": "markdown",
   "id": "0bf21e7a",
   "metadata": {},
   "source": [
    "Finding Buying and Selling Points of GOOGLE Stocks and total return"
   ]
  },
  {
   "cell_type": "code",
   "execution_count": null,
   "id": "e64da999",
   "metadata": {},
   "outputs": [],
   "source": []
  },
  {
   "cell_type": "code",
   "execution_count": 55,
   "id": "5cb39814",
   "metadata": {},
   "outputs": [],
   "source": [
    "def aggregate_sentiment_scores(headlines_df):\n",
    "    sentiment_summary = headlines_df.groupby('Date')['sentiment'].mean()\n",
    "    return sentiment_summary\n",
    "\n",
    "def generate_trading_signals(sentiment_summary):\n",
    "    signals = sentiment_summary.apply(lambda x: 1 if x > 0.2 else (-1 if x < -0.2 else 0))\n",
    "    return signals"
   ]
  },
  {
   "cell_type": "code",
   "execution_count": 61,
   "id": "6707be1c",
   "metadata": {},
   "outputs": [],
   "source": [
    "def calculate_portfolio_metrics(portfolio):\n",
    "    total_trades = len(portfolio) // 2\n",
    "    wins = portfolio[portfolio['type'] == 'sell']['profit'] > 0\n",
    "    win_percentage = wins.mean() * 100\n",
    "    total_profit = portfolio[portfolio['type'] == 'sell']['profit'].sum()\n",
    "    \n",
    "    return total_trades, win_percentage, total_profit\n",
    "\n",
    "def calculate_sharpe_ratio(portfolio, risk_free_rate=0.01):\n",
    "    daily_returns = portfolio[portfolio['type'] == 'sell']['profit']\n",
    "    excess_returns = daily_returns - risk_free_rate\n",
    "    sharpe_ratio = excess_returns.mean() / excess_returns.std()\n",
    "    return sharpe_ratio\n",
    "\n",
    "def calculate_max_drawdown(portfolio):\n",
    "    portfolio['cumulative_profit'] = portfolio['profit'].cumsum()\n",
    "    cumulative_max = portfolio['cumulative_profit'].cummax()\n",
    "    drawdown = portfolio['cumulative_profit'] - cumulative_max\n",
    "    max_drawdown = drawdown.min()\n",
    "    return max_drawdown"
   ]
  },
  {
   "cell_type": "code",
   "execution_count": 62,
   "id": "89675c6a",
   "metadata": {},
   "outputs": [],
   "source": [
    "import plotly.graph_objects as go\n",
    "\n",
    "def plot_signals(stock_data, portfolio):\n",
    "    start_date = portfolio['date'].min()\n",
    "    end_date = portfolio['date'].max()\n",
    "\n",
    "    # Filter stock data\n",
    "    stock_data = stock_data[(stock_data['Date'] >= start_date) & (stock_data['Date'] <= end_date)]\n",
    "    \n",
    "    buy_signals = portfolio[portfolio['type'] == 'buy']\n",
    "    sell_signals = portfolio[portfolio['type'] == 'sell']\n",
    "    fig = go.Figure()\n",
    "    # Add stock price trace\n",
    "    fig.add_trace(go.Scatter(\n",
    "        x=stock_data['Date'], \n",
    "        y=stock_data['Close'],\n",
    "        mode='lines',\n",
    "        name='Stock Price',\n",
    "        line=dict(color='blue')\n",
    "    ))\n",
    "\n",
    "    # Add buy signals\n",
    "    fig.add_trace(go.Scatter(\n",
    "        x=buy_signals['date'], \n",
    "        y=buy_signals['price'],\n",
    "        mode='markers',\n",
    "        name='Buy Signal',\n",
    "        marker=dict(symbol='triangle-up', color='green', size=10)\n",
    "    ))\n",
    "\n",
    "    # Add sell signals\n",
    "    fig.add_trace(go.Scatter(\n",
    "        x=sell_signals['date'], \n",
    "        y=sell_signals['price'],\n",
    "        mode='markers',\n",
    "        name='Sell Signal',\n",
    "        marker=dict(symbol='triangle-down', color='red', size=10)\n",
    "    ))\n",
    "    # Update layout for better presentation\n",
    "    fig.update_layout(\n",
    "        title=f'Stock Price with Buy and Sell Signals for Alphabet',\n",
    "        xaxis_title='Date',\n",
    "        yaxis_title='Price',\n",
    "        legend_title='Legend',\n",
    "        hovermode='x'\n",
    "    )\n",
    "    fig.show()"
   ]
  },
  {
   "cell_type": "code",
   "execution_count": 63,
   "id": "f0c45ac3",
   "metadata": {},
   "outputs": [],
   "source": [
    "def simulate_trades(stock_data, trading_signals,capital):\n",
    "    data = pd.read_csv('merged_data.csv')\n",
    "    date = data['Date']\n",
    "    portfolio = []\n",
    "    position = 0\n",
    "    buy_price = 0\n",
    "    quantity =0\n",
    "    for index, price in (stock_data['Close'].items()):\n",
    "        if date[index] in trading_signals.index:\n",
    "            signal = trading_signals.loc[date[index]]\n",
    "            if signal == 1 and position == 0:  # Buy signal\n",
    "                position = 1\n",
    "                buy_price = price\n",
    "                quantity = capital/price\n",
    "                capital = capital%price\n",
    "                portfolio.append({'date': date[index], 'type': \"buy\", 'price': buy_price, 'capital':capital})\n",
    "            elif signal == -1 and position == 1 and (price>buy_price) :  # Sell signal\n",
    "                position = 0\n",
    "                sell_price = price\n",
    "                profit = (sell_price - buy_price)*quantity\n",
    "                capital = capital+ quantity*sell_price\n",
    "                portfolio.append({'date': date[index], 'type': \"sell\", 'price': sell_price,'capital':capital, 'profit': profit})\n",
    "\n",
    "    return pd.DataFrame(portfolio)"
   ]
  },
  {
   "cell_type": "code",
   "execution_count": null,
   "id": "66a57ddb",
   "metadata": {},
   "outputs": [],
   "source": []
  },
  {
   "cell_type": "code",
   "execution_count": 64,
   "id": "bdf3e248",
   "metadata": {},
   "outputs": [],
   "source": [
    "def ultimate_res(rate, intial):\n",
    "\n",
    "    # Fetch news data\n",
    "    news_data = pd.read_csv('merged_data.csv')\n",
    "    # Calculate sentiment scores\n",
    "    news_data_with_scores = news_data[['Date','sentiment']]\n",
    "    # Aggregate sentiment scores by date\n",
    "    sentiment_summary = aggregate_sentiment_scores(news_data_with_scores)\n",
    "    # Generate trading signals\n",
    "    trading_signals = generate_trading_signals(sentiment_summary)\n",
    "    # Simulate trades\n",
    "    print(\"\\nSimulating trades...\")\n",
    "    portfolio = simulate_trades(news_data, trading_signals, intial)\n",
    "    # Calculate portfolio metrics\n",
    "    total_trades, win_percentage, total_profit = calculate_portfolio_metrics(portfolio)\n",
    "    # Print the portfolio\n",
    "    print(portfolio)\n",
    "    print(f\"\\nInitial capital: ${intial}\")\n",
    "    print(f\"Total Trades: {total_trades}\")\n",
    "    print(f\"Win Percentage: {win_percentage:.2f}%\")\n",
    "    print(f\"Total Portfolio Returns: ${total_profit:.2f}\")\n",
    "    print(f\"Sharpe ratio:{calculate_sharpe_ratio(portfolio, rate):.2f} with risk free rate of {rate}\")\n",
    "    print(f\"Max drawdown: {calculate_max_drawdown(portfolio)}\")\n",
    "    # Plot buy and sell signals\n",
    "    plot_signals(news_data, portfolio)"
   ]
  },
  {
   "cell_type": "code",
   "execution_count": 65,
   "id": "f7889430",
   "metadata": {},
   "outputs": [
    {
     "name": "stdout",
     "output_type": "stream",
     "text": [
      "\n",
      "Simulating trades...\n",
      "          date  type       price       capital       profit\n",
      "0   2021-01-11   buy   88.335999     18.032166          NaN\n",
      "1   2021-02-16  sell  106.095001  12028.424642  2010.392476\n",
      "2   2021-02-09   buy  104.175499     48.242261          NaN\n",
      "3   2021-02-24  sell  104.758499  12143.981904    67.315001\n",
      "4   2021-02-04   buy  103.118500     79.117432          NaN\n",
      "5   2021-04-06  sell  111.237503  13179.252009   956.152672\n",
      "6   2021-04-23   buy  115.764999     97.807077          NaN\n",
      "7   2021-07-08  sell  129.177002  14803.946856  1526.887770\n",
      "8   2021-07-13   buy  130.994507      1.567583          NaN\n",
      "9   2021-09-13  sell  143.464996  16214.828984  1409.314545\n",
      "10  2021-09-17   buy  141.463501     87.989873          NaN\n",
      "\n",
      "Initial capital: $10000\n",
      "Total Trades: 5\n",
      "Win Percentage: 100.00%\n",
      "Total Portfolio Returns: $5970.06\n",
      "Sharpe ratio:1.63 with risk free rate of 0.03\n",
      "Max drawdown: 0.0\n"
     ]
    },
    {
     "data": {
      "application/vnd.plotly.v1+json": {
       "config": {
        "plotlyServerURL": "https://plot.ly"
       },
       "data": [
        {
         "line": {
          "color": "blue"
         },
         "mode": "lines",
         "name": "Stock Price",
         "type": "scatter",
         "x": [
          "2021-01-14",
          "2021-01-14",
          "2021-01-14",
          "2021-01-14",
          "2021-01-14",
          "2021-01-19",
          "2021-01-27",
          "2021-01-27",
          "2021-01-27",
          "2021-01-27",
          "2021-01-21",
          "2021-01-21",
          "2021-01-21",
          "2021-01-20",
          "2021-01-20",
          "2021-01-20",
          "2021-01-13",
          "2021-01-13",
          "2021-01-13",
          "2021-01-15",
          "2021-01-15",
          "2021-01-15",
          "2021-01-15",
          "2021-01-15",
          "2021-01-15",
          "2021-01-15",
          "2021-01-29",
          "2021-01-29",
          "2021-01-29",
          "2021-01-29",
          "2021-01-29",
          "2021-01-29",
          "2021-01-29",
          "2021-01-26",
          "2021-01-26",
          "2021-01-26",
          "2021-01-11",
          "2021-01-25",
          "2021-01-25",
          "2021-01-28",
          "2021-01-28",
          "2021-01-28",
          "2021-01-28",
          "2021-01-28",
          "2021-01-28",
          "2021-01-28",
          "2021-01-12",
          "2021-01-22",
          "2021-02-08",
          "2021-02-08",
          "2021-02-16",
          "2021-02-16",
          "2021-02-01",
          "2021-02-01",
          "2021-02-01",
          "2021-02-01",
          "2021-02-01",
          "2021-02-01",
          "2021-02-01",
          "2021-02-19",
          "2021-02-18",
          "2021-02-18",
          "2021-02-18",
          "2021-02-10",
          "2021-03-01",
          "2021-03-01",
          "2021-03-01",
          "2021-03-01",
          "2021-03-01",
          "2021-02-09",
          "2021-02-23",
          "2021-02-22",
          "2021-02-22",
          "2021-02-24",
          "2021-02-24",
          "2021-02-26",
          "2021-02-26",
          "2021-02-03",
          "2021-02-03",
          "2021-02-12",
          "2021-02-11",
          "2021-02-02",
          "2021-02-04",
          "2021-02-25",
          "2021-04-01",
          "2021-04-01",
          "2021-04-01",
          "2021-04-01",
          "2021-04-01",
          "2021-04-01",
          "2021-04-01",
          "2021-04-01",
          "2021-04-01",
          "2021-04-01",
          "2021-04-01",
          "2021-04-01",
          "2021-04-01",
          "2021-04-01",
          "2021-04-01",
          "2021-04-01",
          "2021-04-01",
          "2021-04-01",
          "2021-03-19",
          "2021-03-19",
          "2021-03-17",
          "2021-03-17",
          "2021-03-17",
          "2021-03-17",
          "2021-03-17",
          "2021-03-25",
          "2021-03-26",
          "2021-03-31",
          "2021-03-31",
          "2021-03-12",
          "2021-03-12",
          "2021-03-04",
          "2021-03-04",
          "2021-03-29",
          "2021-03-18",
          "2021-03-22",
          "2021-03-23",
          "2021-03-05",
          "2021-03-15",
          "2021-03-03",
          "2021-03-11",
          "2021-03-24",
          "2021-04-06",
          "2021-04-06",
          "2021-04-19",
          "2021-04-19",
          "2021-04-19",
          "2021-04-19",
          "2021-04-19",
          "2021-04-08",
          "2021-04-08",
          "2021-04-28",
          "2021-04-28",
          "2021-04-28",
          "2021-04-05",
          "2021-04-05",
          "2021-04-05",
          "2021-04-22",
          "2021-04-21",
          "2021-04-21",
          "2021-04-21",
          "2021-04-26",
          "2021-04-26",
          "2021-04-12",
          "2021-04-12",
          "2021-04-12",
          "2021-04-12",
          "2021-04-12",
          "2021-04-12",
          "2021-04-12",
          "2021-04-13",
          "2021-04-27",
          "2021-04-27",
          "2021-04-27",
          "2021-04-27",
          "2021-04-27",
          "2021-04-27",
          "2021-04-23",
          "2021-04-23",
          "2021-04-15",
          "2021-04-15",
          "2021-04-14",
          "2021-04-14",
          "2021-04-30",
          "2021-05-11",
          "2021-05-11",
          "2021-05-07",
          "2021-05-18",
          "2021-05-18",
          "2021-05-12",
          "2021-05-12",
          "2021-05-21",
          "2021-05-26",
          "2021-05-26",
          "2021-05-19",
          "2021-05-27",
          "2021-05-27",
          "2021-05-27",
          "2021-05-13",
          "2021-05-14",
          "2021-05-24",
          "2021-05-04",
          "2021-06-04",
          "2021-06-16",
          "2021-06-16",
          "2021-06-22",
          "2021-06-22",
          "2021-06-02",
          "2021-06-29",
          "2021-06-29",
          "2021-06-24",
          "2021-06-24",
          "2021-06-14",
          "2021-06-14",
          "2021-06-10",
          "2021-06-10",
          "2021-06-08",
          "2021-06-08",
          "2021-06-07",
          "2021-06-07",
          "2021-06-25",
          "2021-06-25",
          "2021-06-30",
          "2021-06-30",
          "2021-06-28",
          "2021-06-28",
          "2021-06-11",
          "2021-06-21",
          "2021-06-15",
          "2021-06-09",
          "2021-06-17",
          "2021-07-08",
          "2021-07-13",
          "2021-07-07",
          "2021-07-26",
          "2021-07-26",
          "2021-07-30",
          "2021-07-30",
          "2021-07-30",
          "2021-07-30",
          "2021-07-12",
          "2021-07-12",
          "2021-07-15",
          "2021-07-06",
          "2021-07-16",
          "2021-07-16",
          "2021-07-16",
          "2021-07-02",
          "2021-07-20",
          "2021-07-20",
          "2021-07-09",
          "2021-07-09",
          "2021-07-28",
          "2021-08-11",
          "2021-08-11",
          "2021-08-11",
          "2021-08-11",
          "2021-08-11",
          "2021-08-09",
          "2021-08-26",
          "2021-08-26",
          "2021-08-26",
          "2021-08-26",
          "2021-08-26",
          "2021-08-26",
          "2021-08-05",
          "2021-08-05",
          "2021-08-10",
          "2021-08-10",
          "2021-08-27",
          "2021-08-19",
          "2021-08-19",
          "2021-08-03",
          "2021-08-17",
          "2021-08-17",
          "2021-08-17",
          "2021-08-17",
          "2021-08-17",
          "2021-08-13",
          "2021-08-13",
          "2021-08-02",
          "2021-08-02",
          "2021-08-20",
          "2021-08-20",
          "2021-08-20",
          "2021-08-20",
          "2021-08-20",
          "2021-08-20",
          "2021-08-24",
          "2021-08-24",
          "2021-08-04",
          "2021-08-25",
          "2021-08-25",
          "2021-08-23",
          "2021-08-23",
          "2021-08-16",
          "2021-08-16",
          "2021-09-02",
          "2021-09-02",
          "2021-09-02",
          "2021-09-02",
          "2021-09-07",
          "2021-09-07",
          "2021-09-07",
          "2021-09-01",
          "2021-09-01",
          "2021-08-30",
          "2021-08-30",
          "2021-09-15",
          "2021-09-09",
          "2021-09-08",
          "2021-09-08",
          "2021-09-08",
          "2021-09-13",
          "2021-09-16",
          "2021-09-17",
          "2021-09-03"
         ],
         "y": [
          87.00900268554688,
          87.00900268554688,
          87.00900268554688,
          87.00900268554688,
          87.00900268554688,
          89.54299926757812,
          91.53949737548828,
          91.53949737548828,
          91.53949737548828,
          91.53949737548828,
          94.5625,
          94.5625,
          94.5625,
          94.34500122070312,
          94.34500122070312,
          94.34500122070312,
          87.72000122070312,
          87.72000122070312,
          87.72000122070312,
          86.80950164794922,
          86.80950164794922,
          86.80950164794922,
          86.80950164794922,
          86.80950164794922,
          86.80950164794922,
          86.80950164794922,
          91.78700256347656,
          91.78700256347656,
          91.78700256347656,
          91.78700256347656,
          91.78700256347656,
          91.78700256347656,
          91.78700256347656,
          95.86199951171876,
          95.86199951171876,
          95.86199951171876,
          88.33599853515625,
          94.97000122070312,
          94.97000122070312,
          93.15550231933594,
          93.15550231933594,
          93.15550231933594,
          93.15550231933594,
          93.15550231933594,
          93.15550231933594,
          93.15550231933594,
          87.32749938964844,
          95.05249786376952,
          104.64550018310548,
          104.64550018310548,
          106.09500122070312,
          106.09500122070312,
          95.06749725341795,
          95.06749725341795,
          95.06749725341795,
          95.06749725341795,
          95.06749725341795,
          95.06749725341795,
          95.06749725341795,
          105.05699920654295,
          105.86000061035156,
          105.86000061035156,
          105.86000061035156,
          104.7689971923828,
          104.07550048828124,
          104.07550048828124,
          104.07550048828124,
          104.07550048828124,
          104.07550048828124,
          104.17549896240234,
          103.54299926757812,
          103.24400329589844,
          103.24400329589844,
          104.7584991455078,
          104.7584991455078,
          101.84300231933594,
          101.84300231933594,
          103.50350189208984,
          103.50350189208984,
          105.20549774169922,
          104.79450225830078,
          96.37550354003906,
          103.11849975585938,
          101.56800079345705,
          106.8874969482422,
          106.8874969482422,
          106.8874969482422,
          106.8874969482422,
          106.8874969482422,
          106.8874969482422,
          106.8874969482422,
          106.8874969482422,
          106.8874969482422,
          106.8874969482422,
          106.8874969482422,
          106.8874969482422,
          106.8874969482422,
          106.8874969482422,
          106.8874969482422,
          106.8874969482422,
          106.8874969482422,
          106.8874969482422,
          102.16000366210938,
          102.16000366210938,
          104.5540008544922,
          104.5540008544922,
          104.5540008544922,
          104.5540008544922,
          104.5540008544922,
          102.21800231933594,
          101.77749633789062,
          103.43150329589844,
          103.43150329589844,
          103.09600067138672,
          103.09600067138672,
          102.45449829101562,
          102.45449829101562,
          102.79750061035156,
          101.81099700927734,
          101.92949676513672,
          102.64800262451172,
          105.427001953125,
          103.32450103759766,
          101.33550262451172,
          105.7385025024414,
          102.25299835205078,
          111.2375030517578,
          111.2375030517578,
          115.12000274658205,
          115.12000274658205,
          115.12000274658205,
          115.12000274658205,
          115.12000274658205,
          113.27200317382812,
          113.27200317382812,
          118.99549865722656,
          118.99549865722656,
          118.99549865722656,
          111.27749633789062,
          111.27749633789062,
          111.27749633789062,
          113.39600372314452,
          114.66449737548828,
          114.66449737548828,
          114.66449737548828,
          116.33699798583984,
          116.33699798583984,
          112.739501953125,
          112.739501953125,
          112.739501953125,
          112.739501953125,
          112.739501953125,
          112.739501953125,
          112.739501953125,
          113.3635025024414,
          115.3560028076172,
          115.3560028076172,
          115.3560028076172,
          115.3560028076172,
          115.3560028076172,
          115.3560028076172,
          115.76499938964844,
          115.76499938964844,
          114.83300018310548,
          114.83300018310548,
          112.74199676513672,
          112.74199676513672,
          120.50599670410156,
          115.43800354003906,
          115.43800354003906,
          119.93450164794922,
          115.17150115966795,
          115.17150115966795,
          111.9540023803711,
          111.9540023803711,
          117.25499725341795,
          121.67649841308594,
          121.67649841308594,
          115.4355010986328,
          120.12550354003906,
          120.12550354003906,
          120.12550354003906,
          113.09850311279295,
          115.80799865722656,
          120.33350372314452,
          117.7125015258789,
          122.58799743652344,
          125.69650268554688,
          125.69650268554688,
          126.99949645996094,
          126.99949645996094,
          121.06400299072266,
          126.01850128173828,
          126.01850128173828,
          127.28199768066406,
          127.28199768066406,
          126.35199737548828,
          126.35199737548828,
          126.08000183105467,
          126.08000183105467,
          124.14250183105467,
          124.14250183105467,
          123.30449676513672,
          123.30449676513672,
          126.99500274658205,
          126.99500274658205,
          125.31600189208984,
          125.31600189208984,
          126.81950378417967,
          126.81950378417967,
          125.69650268554688,
          126.45500183105467,
          126.03299713134766,
          124.56999969482422,
          126.37100219726562,
          129.177001953125,
          130.9945068359375,
          130.07749938964844,
          139.64450073242188,
          139.64450073242188,
          135.2209930419922,
          135.2209930419922,
          135.2209930419922,
          135.2209930419922,
          130.56399536132812,
          130.56399536132812,
          131.26649475097656,
          129.77099609375,
          131.8455047607422,
          131.8455047607422,
          131.8455047607422,
          128.718994140625,
          131.10150146484375,
          131.10150146484375,
          129.57449340820312,
          129.57449340820312,
          136.38150024414062,
          137.6894989013672,
          137.6894989013672,
          137.6894989013672,
          137.6894989013672,
          137.6894989013672,
          138.0019989013672,
          142.1230010986328,
          142.1230010986328,
          142.1230010986328,
          142.1230010986328,
          142.1230010986328,
          142.1230010986328,
          136.94000244140625,
          136.94000244140625,
          138.09649658203125,
          138.09649658203125,
          144.55050659179688,
          136.9134979248047,
          136.9134979248047,
          136.27999877929688,
          137.30050659179688,
          137.30050659179688,
          137.30050659179688,
          137.30050659179688,
          137.30050659179688,
          138.406005859375,
          138.406005859375,
          135.989501953125,
          135.989501953125,
          138.43699645996094,
          138.43699645996094,
          138.43699645996094,
          138.43699645996094,
          138.43699645996094,
          138.43699645996094,
          142.39849853515625,
          142.39849853515625,
          136.02850341796875,
          142.9499969482422,
          142.9499969482422,
          141.09950256347656,
          141.09950256347656,
          138.91600036621094,
          138.91600036621094,
          144.218994140625,
          144.218994140625,
          144.218994140625,
          144.218994140625,
          145.5189971923828,
          145.5189971923828,
          145.5189971923828,
          145.8419952392578,
          145.8419952392578,
          145.46949768066406,
          145.46949768066406,
          145.20599365234375,
          144.9134979248047,
          144.8834991455078,
          144.8834991455078,
          144.8834991455078,
          143.46499633789062,
          144.37350463867188,
          141.4635009765625,
          144.77499389648438
         ]
        },
        {
         "marker": {
          "color": "green",
          "size": 10,
          "symbol": "triangle-up"
         },
         "mode": "markers",
         "name": "Buy Signal",
         "type": "scatter",
         "x": [
          "2021-01-11",
          "2021-02-09",
          "2021-02-04",
          "2021-04-23",
          "2021-07-13",
          "2021-09-17"
         ],
         "y": [
          88.33599853515625,
          104.17549896240234,
          103.11849975585938,
          115.76499938964844,
          130.9945068359375,
          141.4635009765625
         ]
        },
        {
         "marker": {
          "color": "red",
          "size": 10,
          "symbol": "triangle-down"
         },
         "mode": "markers",
         "name": "Sell Signal",
         "type": "scatter",
         "x": [
          "2021-02-16",
          "2021-02-24",
          "2021-04-06",
          "2021-07-08",
          "2021-09-13"
         ],
         "y": [
          106.09500122070312,
          104.7584991455078,
          111.2375030517578,
          129.177001953125,
          143.46499633789062
         ]
        }
       ],
       "layout": {
        "hovermode": "x",
        "legend": {
         "title": {
          "text": "Legend"
         }
        },
        "template": {
         "data": {
          "bar": [
           {
            "error_x": {
             "color": "#2a3f5f"
            },
            "error_y": {
             "color": "#2a3f5f"
            },
            "marker": {
             "line": {
              "color": "#E5ECF6",
              "width": 0.5
             },
             "pattern": {
              "fillmode": "overlay",
              "size": 10,
              "solidity": 0.2
             }
            },
            "type": "bar"
           }
          ],
          "barpolar": [
           {
            "marker": {
             "line": {
              "color": "#E5ECF6",
              "width": 0.5
             },
             "pattern": {
              "fillmode": "overlay",
              "size": 10,
              "solidity": 0.2
             }
            },
            "type": "barpolar"
           }
          ],
          "carpet": [
           {
            "aaxis": {
             "endlinecolor": "#2a3f5f",
             "gridcolor": "white",
             "linecolor": "white",
             "minorgridcolor": "white",
             "startlinecolor": "#2a3f5f"
            },
            "baxis": {
             "endlinecolor": "#2a3f5f",
             "gridcolor": "white",
             "linecolor": "white",
             "minorgridcolor": "white",
             "startlinecolor": "#2a3f5f"
            },
            "type": "carpet"
           }
          ],
          "choropleth": [
           {
            "colorbar": {
             "outlinewidth": 0,
             "ticks": ""
            },
            "type": "choropleth"
           }
          ],
          "contour": [
           {
            "colorbar": {
             "outlinewidth": 0,
             "ticks": ""
            },
            "colorscale": [
             [
              0,
              "#0d0887"
             ],
             [
              0.1111111111111111,
              "#46039f"
             ],
             [
              0.2222222222222222,
              "#7201a8"
             ],
             [
              0.3333333333333333,
              "#9c179e"
             ],
             [
              0.4444444444444444,
              "#bd3786"
             ],
             [
              0.5555555555555556,
              "#d8576b"
             ],
             [
              0.6666666666666666,
              "#ed7953"
             ],
             [
              0.7777777777777778,
              "#fb9f3a"
             ],
             [
              0.8888888888888888,
              "#fdca26"
             ],
             [
              1,
              "#f0f921"
             ]
            ],
            "type": "contour"
           }
          ],
          "contourcarpet": [
           {
            "colorbar": {
             "outlinewidth": 0,
             "ticks": ""
            },
            "type": "contourcarpet"
           }
          ],
          "heatmap": [
           {
            "colorbar": {
             "outlinewidth": 0,
             "ticks": ""
            },
            "colorscale": [
             [
              0,
              "#0d0887"
             ],
             [
              0.1111111111111111,
              "#46039f"
             ],
             [
              0.2222222222222222,
              "#7201a8"
             ],
             [
              0.3333333333333333,
              "#9c179e"
             ],
             [
              0.4444444444444444,
              "#bd3786"
             ],
             [
              0.5555555555555556,
              "#d8576b"
             ],
             [
              0.6666666666666666,
              "#ed7953"
             ],
             [
              0.7777777777777778,
              "#fb9f3a"
             ],
             [
              0.8888888888888888,
              "#fdca26"
             ],
             [
              1,
              "#f0f921"
             ]
            ],
            "type": "heatmap"
           }
          ],
          "heatmapgl": [
           {
            "colorbar": {
             "outlinewidth": 0,
             "ticks": ""
            },
            "colorscale": [
             [
              0,
              "#0d0887"
             ],
             [
              0.1111111111111111,
              "#46039f"
             ],
             [
              0.2222222222222222,
              "#7201a8"
             ],
             [
              0.3333333333333333,
              "#9c179e"
             ],
             [
              0.4444444444444444,
              "#bd3786"
             ],
             [
              0.5555555555555556,
              "#d8576b"
             ],
             [
              0.6666666666666666,
              "#ed7953"
             ],
             [
              0.7777777777777778,
              "#fb9f3a"
             ],
             [
              0.8888888888888888,
              "#fdca26"
             ],
             [
              1,
              "#f0f921"
             ]
            ],
            "type": "heatmapgl"
           }
          ],
          "histogram": [
           {
            "marker": {
             "pattern": {
              "fillmode": "overlay",
              "size": 10,
              "solidity": 0.2
             }
            },
            "type": "histogram"
           }
          ],
          "histogram2d": [
           {
            "colorbar": {
             "outlinewidth": 0,
             "ticks": ""
            },
            "colorscale": [
             [
              0,
              "#0d0887"
             ],
             [
              0.1111111111111111,
              "#46039f"
             ],
             [
              0.2222222222222222,
              "#7201a8"
             ],
             [
              0.3333333333333333,
              "#9c179e"
             ],
             [
              0.4444444444444444,
              "#bd3786"
             ],
             [
              0.5555555555555556,
              "#d8576b"
             ],
             [
              0.6666666666666666,
              "#ed7953"
             ],
             [
              0.7777777777777778,
              "#fb9f3a"
             ],
             [
              0.8888888888888888,
              "#fdca26"
             ],
             [
              1,
              "#f0f921"
             ]
            ],
            "type": "histogram2d"
           }
          ],
          "histogram2dcontour": [
           {
            "colorbar": {
             "outlinewidth": 0,
             "ticks": ""
            },
            "colorscale": [
             [
              0,
              "#0d0887"
             ],
             [
              0.1111111111111111,
              "#46039f"
             ],
             [
              0.2222222222222222,
              "#7201a8"
             ],
             [
              0.3333333333333333,
              "#9c179e"
             ],
             [
              0.4444444444444444,
              "#bd3786"
             ],
             [
              0.5555555555555556,
              "#d8576b"
             ],
             [
              0.6666666666666666,
              "#ed7953"
             ],
             [
              0.7777777777777778,
              "#fb9f3a"
             ],
             [
              0.8888888888888888,
              "#fdca26"
             ],
             [
              1,
              "#f0f921"
             ]
            ],
            "type": "histogram2dcontour"
           }
          ],
          "mesh3d": [
           {
            "colorbar": {
             "outlinewidth": 0,
             "ticks": ""
            },
            "type": "mesh3d"
           }
          ],
          "parcoords": [
           {
            "line": {
             "colorbar": {
              "outlinewidth": 0,
              "ticks": ""
             }
            },
            "type": "parcoords"
           }
          ],
          "pie": [
           {
            "automargin": true,
            "type": "pie"
           }
          ],
          "scatter": [
           {
            "fillpattern": {
             "fillmode": "overlay",
             "size": 10,
             "solidity": 0.2
            },
            "type": "scatter"
           }
          ],
          "scatter3d": [
           {
            "line": {
             "colorbar": {
              "outlinewidth": 0,
              "ticks": ""
             }
            },
            "marker": {
             "colorbar": {
              "outlinewidth": 0,
              "ticks": ""
             }
            },
            "type": "scatter3d"
           }
          ],
          "scattercarpet": [
           {
            "marker": {
             "colorbar": {
              "outlinewidth": 0,
              "ticks": ""
             }
            },
            "type": "scattercarpet"
           }
          ],
          "scattergeo": [
           {
            "marker": {
             "colorbar": {
              "outlinewidth": 0,
              "ticks": ""
             }
            },
            "type": "scattergeo"
           }
          ],
          "scattergl": [
           {
            "marker": {
             "colorbar": {
              "outlinewidth": 0,
              "ticks": ""
             }
            },
            "type": "scattergl"
           }
          ],
          "scattermapbox": [
           {
            "marker": {
             "colorbar": {
              "outlinewidth": 0,
              "ticks": ""
             }
            },
            "type": "scattermapbox"
           }
          ],
          "scatterpolar": [
           {
            "marker": {
             "colorbar": {
              "outlinewidth": 0,
              "ticks": ""
             }
            },
            "type": "scatterpolar"
           }
          ],
          "scatterpolargl": [
           {
            "marker": {
             "colorbar": {
              "outlinewidth": 0,
              "ticks": ""
             }
            },
            "type": "scatterpolargl"
           }
          ],
          "scatterternary": [
           {
            "marker": {
             "colorbar": {
              "outlinewidth": 0,
              "ticks": ""
             }
            },
            "type": "scatterternary"
           }
          ],
          "surface": [
           {
            "colorbar": {
             "outlinewidth": 0,
             "ticks": ""
            },
            "colorscale": [
             [
              0,
              "#0d0887"
             ],
             [
              0.1111111111111111,
              "#46039f"
             ],
             [
              0.2222222222222222,
              "#7201a8"
             ],
             [
              0.3333333333333333,
              "#9c179e"
             ],
             [
              0.4444444444444444,
              "#bd3786"
             ],
             [
              0.5555555555555556,
              "#d8576b"
             ],
             [
              0.6666666666666666,
              "#ed7953"
             ],
             [
              0.7777777777777778,
              "#fb9f3a"
             ],
             [
              0.8888888888888888,
              "#fdca26"
             ],
             [
              1,
              "#f0f921"
             ]
            ],
            "type": "surface"
           }
          ],
          "table": [
           {
            "cells": {
             "fill": {
              "color": "#EBF0F8"
             },
             "line": {
              "color": "white"
             }
            },
            "header": {
             "fill": {
              "color": "#C8D4E3"
             },
             "line": {
              "color": "white"
             }
            },
            "type": "table"
           }
          ]
         },
         "layout": {
          "annotationdefaults": {
           "arrowcolor": "#2a3f5f",
           "arrowhead": 0,
           "arrowwidth": 1
          },
          "autotypenumbers": "strict",
          "coloraxis": {
           "colorbar": {
            "outlinewidth": 0,
            "ticks": ""
           }
          },
          "colorscale": {
           "diverging": [
            [
             0,
             "#8e0152"
            ],
            [
             0.1,
             "#c51b7d"
            ],
            [
             0.2,
             "#de77ae"
            ],
            [
             0.3,
             "#f1b6da"
            ],
            [
             0.4,
             "#fde0ef"
            ],
            [
             0.5,
             "#f7f7f7"
            ],
            [
             0.6,
             "#e6f5d0"
            ],
            [
             0.7,
             "#b8e186"
            ],
            [
             0.8,
             "#7fbc41"
            ],
            [
             0.9,
             "#4d9221"
            ],
            [
             1,
             "#276419"
            ]
           ],
           "sequential": [
            [
             0,
             "#0d0887"
            ],
            [
             0.1111111111111111,
             "#46039f"
            ],
            [
             0.2222222222222222,
             "#7201a8"
            ],
            [
             0.3333333333333333,
             "#9c179e"
            ],
            [
             0.4444444444444444,
             "#bd3786"
            ],
            [
             0.5555555555555556,
             "#d8576b"
            ],
            [
             0.6666666666666666,
             "#ed7953"
            ],
            [
             0.7777777777777778,
             "#fb9f3a"
            ],
            [
             0.8888888888888888,
             "#fdca26"
            ],
            [
             1,
             "#f0f921"
            ]
           ],
           "sequentialminus": [
            [
             0,
             "#0d0887"
            ],
            [
             0.1111111111111111,
             "#46039f"
            ],
            [
             0.2222222222222222,
             "#7201a8"
            ],
            [
             0.3333333333333333,
             "#9c179e"
            ],
            [
             0.4444444444444444,
             "#bd3786"
            ],
            [
             0.5555555555555556,
             "#d8576b"
            ],
            [
             0.6666666666666666,
             "#ed7953"
            ],
            [
             0.7777777777777778,
             "#fb9f3a"
            ],
            [
             0.8888888888888888,
             "#fdca26"
            ],
            [
             1,
             "#f0f921"
            ]
           ]
          },
          "colorway": [
           "#636efa",
           "#EF553B",
           "#00cc96",
           "#ab63fa",
           "#FFA15A",
           "#19d3f3",
           "#FF6692",
           "#B6E880",
           "#FF97FF",
           "#FECB52"
          ],
          "font": {
           "color": "#2a3f5f"
          },
          "geo": {
           "bgcolor": "white",
           "lakecolor": "white",
           "landcolor": "#E5ECF6",
           "showlakes": true,
           "showland": true,
           "subunitcolor": "white"
          },
          "hoverlabel": {
           "align": "left"
          },
          "hovermode": "closest",
          "mapbox": {
           "style": "light"
          },
          "paper_bgcolor": "white",
          "plot_bgcolor": "#E5ECF6",
          "polar": {
           "angularaxis": {
            "gridcolor": "white",
            "linecolor": "white",
            "ticks": ""
           },
           "bgcolor": "#E5ECF6",
           "radialaxis": {
            "gridcolor": "white",
            "linecolor": "white",
            "ticks": ""
           }
          },
          "scene": {
           "xaxis": {
            "backgroundcolor": "#E5ECF6",
            "gridcolor": "white",
            "gridwidth": 2,
            "linecolor": "white",
            "showbackground": true,
            "ticks": "",
            "zerolinecolor": "white"
           },
           "yaxis": {
            "backgroundcolor": "#E5ECF6",
            "gridcolor": "white",
            "gridwidth": 2,
            "linecolor": "white",
            "showbackground": true,
            "ticks": "",
            "zerolinecolor": "white"
           },
           "zaxis": {
            "backgroundcolor": "#E5ECF6",
            "gridcolor": "white",
            "gridwidth": 2,
            "linecolor": "white",
            "showbackground": true,
            "ticks": "",
            "zerolinecolor": "white"
           }
          },
          "shapedefaults": {
           "line": {
            "color": "#2a3f5f"
           }
          },
          "ternary": {
           "aaxis": {
            "gridcolor": "white",
            "linecolor": "white",
            "ticks": ""
           },
           "baxis": {
            "gridcolor": "white",
            "linecolor": "white",
            "ticks": ""
           },
           "bgcolor": "#E5ECF6",
           "caxis": {
            "gridcolor": "white",
            "linecolor": "white",
            "ticks": ""
           }
          },
          "title": {
           "x": 0.05
          },
          "xaxis": {
           "automargin": true,
           "gridcolor": "white",
           "linecolor": "white",
           "ticks": "",
           "title": {
            "standoff": 15
           },
           "zerolinecolor": "white",
           "zerolinewidth": 2
          },
          "yaxis": {
           "automargin": true,
           "gridcolor": "white",
           "linecolor": "white",
           "ticks": "",
           "title": {
            "standoff": 15
           },
           "zerolinecolor": "white",
           "zerolinewidth": 2
          }
         }
        },
        "title": {
         "text": "Stock Price with Buy and Sell Signals for Alphabet"
        },
        "xaxis": {
         "title": {
          "text": "Date"
         }
        },
        "yaxis": {
         "title": {
          "text": "Price"
         }
        }
       }
      },
      "text/html": [
       "<div>                            <div id=\"8292d3b3-7233-42d5-8de7-f2d5773173a3\" class=\"plotly-graph-div\" style=\"height:525px; width:100%;\"></div>            <script type=\"text/javascript\">                require([\"plotly\"], function(Plotly) {                    window.PLOTLYENV=window.PLOTLYENV || {};                                    if (document.getElementById(\"8292d3b3-7233-42d5-8de7-f2d5773173a3\")) {                    Plotly.newPlot(                        \"8292d3b3-7233-42d5-8de7-f2d5773173a3\",                        [{\"line\":{\"color\":\"blue\"},\"mode\":\"lines\",\"name\":\"Stock Price\",\"x\":[\"2021-01-14\",\"2021-01-14\",\"2021-01-14\",\"2021-01-14\",\"2021-01-14\",\"2021-01-19\",\"2021-01-27\",\"2021-01-27\",\"2021-01-27\",\"2021-01-27\",\"2021-01-21\",\"2021-01-21\",\"2021-01-21\",\"2021-01-20\",\"2021-01-20\",\"2021-01-20\",\"2021-01-13\",\"2021-01-13\",\"2021-01-13\",\"2021-01-15\",\"2021-01-15\",\"2021-01-15\",\"2021-01-15\",\"2021-01-15\",\"2021-01-15\",\"2021-01-15\",\"2021-01-29\",\"2021-01-29\",\"2021-01-29\",\"2021-01-29\",\"2021-01-29\",\"2021-01-29\",\"2021-01-29\",\"2021-01-26\",\"2021-01-26\",\"2021-01-26\",\"2021-01-11\",\"2021-01-25\",\"2021-01-25\",\"2021-01-28\",\"2021-01-28\",\"2021-01-28\",\"2021-01-28\",\"2021-01-28\",\"2021-01-28\",\"2021-01-28\",\"2021-01-12\",\"2021-01-22\",\"2021-02-08\",\"2021-02-08\",\"2021-02-16\",\"2021-02-16\",\"2021-02-01\",\"2021-02-01\",\"2021-02-01\",\"2021-02-01\",\"2021-02-01\",\"2021-02-01\",\"2021-02-01\",\"2021-02-19\",\"2021-02-18\",\"2021-02-18\",\"2021-02-18\",\"2021-02-10\",\"2021-03-01\",\"2021-03-01\",\"2021-03-01\",\"2021-03-01\",\"2021-03-01\",\"2021-02-09\",\"2021-02-23\",\"2021-02-22\",\"2021-02-22\",\"2021-02-24\",\"2021-02-24\",\"2021-02-26\",\"2021-02-26\",\"2021-02-03\",\"2021-02-03\",\"2021-02-12\",\"2021-02-11\",\"2021-02-02\",\"2021-02-04\",\"2021-02-25\",\"2021-04-01\",\"2021-04-01\",\"2021-04-01\",\"2021-04-01\",\"2021-04-01\",\"2021-04-01\",\"2021-04-01\",\"2021-04-01\",\"2021-04-01\",\"2021-04-01\",\"2021-04-01\",\"2021-04-01\",\"2021-04-01\",\"2021-04-01\",\"2021-04-01\",\"2021-04-01\",\"2021-04-01\",\"2021-04-01\",\"2021-03-19\",\"2021-03-19\",\"2021-03-17\",\"2021-03-17\",\"2021-03-17\",\"2021-03-17\",\"2021-03-17\",\"2021-03-25\",\"2021-03-26\",\"2021-03-31\",\"2021-03-31\",\"2021-03-12\",\"2021-03-12\",\"2021-03-04\",\"2021-03-04\",\"2021-03-29\",\"2021-03-18\",\"2021-03-22\",\"2021-03-23\",\"2021-03-05\",\"2021-03-15\",\"2021-03-03\",\"2021-03-11\",\"2021-03-24\",\"2021-04-06\",\"2021-04-06\",\"2021-04-19\",\"2021-04-19\",\"2021-04-19\",\"2021-04-19\",\"2021-04-19\",\"2021-04-08\",\"2021-04-08\",\"2021-04-28\",\"2021-04-28\",\"2021-04-28\",\"2021-04-05\",\"2021-04-05\",\"2021-04-05\",\"2021-04-22\",\"2021-04-21\",\"2021-04-21\",\"2021-04-21\",\"2021-04-26\",\"2021-04-26\",\"2021-04-12\",\"2021-04-12\",\"2021-04-12\",\"2021-04-12\",\"2021-04-12\",\"2021-04-12\",\"2021-04-12\",\"2021-04-13\",\"2021-04-27\",\"2021-04-27\",\"2021-04-27\",\"2021-04-27\",\"2021-04-27\",\"2021-04-27\",\"2021-04-23\",\"2021-04-23\",\"2021-04-15\",\"2021-04-15\",\"2021-04-14\",\"2021-04-14\",\"2021-04-30\",\"2021-05-11\",\"2021-05-11\",\"2021-05-07\",\"2021-05-18\",\"2021-05-18\",\"2021-05-12\",\"2021-05-12\",\"2021-05-21\",\"2021-05-26\",\"2021-05-26\",\"2021-05-19\",\"2021-05-27\",\"2021-05-27\",\"2021-05-27\",\"2021-05-13\",\"2021-05-14\",\"2021-05-24\",\"2021-05-04\",\"2021-06-04\",\"2021-06-16\",\"2021-06-16\",\"2021-06-22\",\"2021-06-22\",\"2021-06-02\",\"2021-06-29\",\"2021-06-29\",\"2021-06-24\",\"2021-06-24\",\"2021-06-14\",\"2021-06-14\",\"2021-06-10\",\"2021-06-10\",\"2021-06-08\",\"2021-06-08\",\"2021-06-07\",\"2021-06-07\",\"2021-06-25\",\"2021-06-25\",\"2021-06-30\",\"2021-06-30\",\"2021-06-28\",\"2021-06-28\",\"2021-06-11\",\"2021-06-21\",\"2021-06-15\",\"2021-06-09\",\"2021-06-17\",\"2021-07-08\",\"2021-07-13\",\"2021-07-07\",\"2021-07-26\",\"2021-07-26\",\"2021-07-30\",\"2021-07-30\",\"2021-07-30\",\"2021-07-30\",\"2021-07-12\",\"2021-07-12\",\"2021-07-15\",\"2021-07-06\",\"2021-07-16\",\"2021-07-16\",\"2021-07-16\",\"2021-07-02\",\"2021-07-20\",\"2021-07-20\",\"2021-07-09\",\"2021-07-09\",\"2021-07-28\",\"2021-08-11\",\"2021-08-11\",\"2021-08-11\",\"2021-08-11\",\"2021-08-11\",\"2021-08-09\",\"2021-08-26\",\"2021-08-26\",\"2021-08-26\",\"2021-08-26\",\"2021-08-26\",\"2021-08-26\",\"2021-08-05\",\"2021-08-05\",\"2021-08-10\",\"2021-08-10\",\"2021-08-27\",\"2021-08-19\",\"2021-08-19\",\"2021-08-03\",\"2021-08-17\",\"2021-08-17\",\"2021-08-17\",\"2021-08-17\",\"2021-08-17\",\"2021-08-13\",\"2021-08-13\",\"2021-08-02\",\"2021-08-02\",\"2021-08-20\",\"2021-08-20\",\"2021-08-20\",\"2021-08-20\",\"2021-08-20\",\"2021-08-20\",\"2021-08-24\",\"2021-08-24\",\"2021-08-04\",\"2021-08-25\",\"2021-08-25\",\"2021-08-23\",\"2021-08-23\",\"2021-08-16\",\"2021-08-16\",\"2021-09-02\",\"2021-09-02\",\"2021-09-02\",\"2021-09-02\",\"2021-09-07\",\"2021-09-07\",\"2021-09-07\",\"2021-09-01\",\"2021-09-01\",\"2021-08-30\",\"2021-08-30\",\"2021-09-15\",\"2021-09-09\",\"2021-09-08\",\"2021-09-08\",\"2021-09-08\",\"2021-09-13\",\"2021-09-16\",\"2021-09-17\",\"2021-09-03\"],\"y\":[87.00900268554688,87.00900268554688,87.00900268554688,87.00900268554688,87.00900268554688,89.54299926757812,91.53949737548828,91.53949737548828,91.53949737548828,91.53949737548828,94.5625,94.5625,94.5625,94.34500122070312,94.34500122070312,94.34500122070312,87.72000122070312,87.72000122070312,87.72000122070312,86.80950164794922,86.80950164794922,86.80950164794922,86.80950164794922,86.80950164794922,86.80950164794922,86.80950164794922,91.78700256347656,91.78700256347656,91.78700256347656,91.78700256347656,91.78700256347656,91.78700256347656,91.78700256347656,95.86199951171876,95.86199951171876,95.86199951171876,88.33599853515625,94.97000122070312,94.97000122070312,93.15550231933594,93.15550231933594,93.15550231933594,93.15550231933594,93.15550231933594,93.15550231933594,93.15550231933594,87.32749938964844,95.05249786376952,104.64550018310548,104.64550018310548,106.09500122070312,106.09500122070312,95.06749725341795,95.06749725341795,95.06749725341795,95.06749725341795,95.06749725341795,95.06749725341795,95.06749725341795,105.05699920654295,105.86000061035156,105.86000061035156,105.86000061035156,104.7689971923828,104.07550048828124,104.07550048828124,104.07550048828124,104.07550048828124,104.07550048828124,104.17549896240234,103.54299926757812,103.24400329589844,103.24400329589844,104.7584991455078,104.7584991455078,101.84300231933594,101.84300231933594,103.50350189208984,103.50350189208984,105.20549774169922,104.79450225830078,96.37550354003906,103.11849975585938,101.56800079345705,106.8874969482422,106.8874969482422,106.8874969482422,106.8874969482422,106.8874969482422,106.8874969482422,106.8874969482422,106.8874969482422,106.8874969482422,106.8874969482422,106.8874969482422,106.8874969482422,106.8874969482422,106.8874969482422,106.8874969482422,106.8874969482422,106.8874969482422,106.8874969482422,102.16000366210938,102.16000366210938,104.5540008544922,104.5540008544922,104.5540008544922,104.5540008544922,104.5540008544922,102.21800231933594,101.77749633789062,103.43150329589844,103.43150329589844,103.09600067138672,103.09600067138672,102.45449829101562,102.45449829101562,102.79750061035156,101.81099700927734,101.92949676513672,102.64800262451172,105.427001953125,103.32450103759766,101.33550262451172,105.7385025024414,102.25299835205078,111.2375030517578,111.2375030517578,115.12000274658205,115.12000274658205,115.12000274658205,115.12000274658205,115.12000274658205,113.27200317382812,113.27200317382812,118.99549865722656,118.99549865722656,118.99549865722656,111.27749633789062,111.27749633789062,111.27749633789062,113.39600372314452,114.66449737548828,114.66449737548828,114.66449737548828,116.33699798583984,116.33699798583984,112.739501953125,112.739501953125,112.739501953125,112.739501953125,112.739501953125,112.739501953125,112.739501953125,113.3635025024414,115.3560028076172,115.3560028076172,115.3560028076172,115.3560028076172,115.3560028076172,115.3560028076172,115.76499938964844,115.76499938964844,114.83300018310548,114.83300018310548,112.74199676513672,112.74199676513672,120.50599670410156,115.43800354003906,115.43800354003906,119.93450164794922,115.17150115966795,115.17150115966795,111.9540023803711,111.9540023803711,117.25499725341795,121.67649841308594,121.67649841308594,115.4355010986328,120.12550354003906,120.12550354003906,120.12550354003906,113.09850311279295,115.80799865722656,120.33350372314452,117.7125015258789,122.58799743652344,125.69650268554688,125.69650268554688,126.99949645996094,126.99949645996094,121.06400299072266,126.01850128173828,126.01850128173828,127.28199768066406,127.28199768066406,126.35199737548828,126.35199737548828,126.08000183105467,126.08000183105467,124.14250183105467,124.14250183105467,123.30449676513672,123.30449676513672,126.99500274658205,126.99500274658205,125.31600189208984,125.31600189208984,126.81950378417967,126.81950378417967,125.69650268554688,126.45500183105467,126.03299713134766,124.56999969482422,126.37100219726562,129.177001953125,130.9945068359375,130.07749938964844,139.64450073242188,139.64450073242188,135.2209930419922,135.2209930419922,135.2209930419922,135.2209930419922,130.56399536132812,130.56399536132812,131.26649475097656,129.77099609375,131.8455047607422,131.8455047607422,131.8455047607422,128.718994140625,131.10150146484375,131.10150146484375,129.57449340820312,129.57449340820312,136.38150024414062,137.6894989013672,137.6894989013672,137.6894989013672,137.6894989013672,137.6894989013672,138.0019989013672,142.1230010986328,142.1230010986328,142.1230010986328,142.1230010986328,142.1230010986328,142.1230010986328,136.94000244140625,136.94000244140625,138.09649658203125,138.09649658203125,144.55050659179688,136.9134979248047,136.9134979248047,136.27999877929688,137.30050659179688,137.30050659179688,137.30050659179688,137.30050659179688,137.30050659179688,138.406005859375,138.406005859375,135.989501953125,135.989501953125,138.43699645996094,138.43699645996094,138.43699645996094,138.43699645996094,138.43699645996094,138.43699645996094,142.39849853515625,142.39849853515625,136.02850341796875,142.9499969482422,142.9499969482422,141.09950256347656,141.09950256347656,138.91600036621094,138.91600036621094,144.218994140625,144.218994140625,144.218994140625,144.218994140625,145.5189971923828,145.5189971923828,145.5189971923828,145.8419952392578,145.8419952392578,145.46949768066406,145.46949768066406,145.20599365234375,144.9134979248047,144.8834991455078,144.8834991455078,144.8834991455078,143.46499633789062,144.37350463867188,141.4635009765625,144.77499389648438],\"type\":\"scatter\"},{\"marker\":{\"color\":\"green\",\"size\":10,\"symbol\":\"triangle-up\"},\"mode\":\"markers\",\"name\":\"Buy Signal\",\"x\":[\"2021-01-11\",\"2021-02-09\",\"2021-02-04\",\"2021-04-23\",\"2021-07-13\",\"2021-09-17\"],\"y\":[88.33599853515625,104.17549896240234,103.11849975585938,115.76499938964844,130.9945068359375,141.4635009765625],\"type\":\"scatter\"},{\"marker\":{\"color\":\"red\",\"size\":10,\"symbol\":\"triangle-down\"},\"mode\":\"markers\",\"name\":\"Sell Signal\",\"x\":[\"2021-02-16\",\"2021-02-24\",\"2021-04-06\",\"2021-07-08\",\"2021-09-13\"],\"y\":[106.09500122070312,104.7584991455078,111.2375030517578,129.177001953125,143.46499633789062],\"type\":\"scatter\"}],                        {\"template\":{\"data\":{\"histogram2dcontour\":[{\"type\":\"histogram2dcontour\",\"colorbar\":{\"outlinewidth\":0,\"ticks\":\"\"},\"colorscale\":[[0.0,\"#0d0887\"],[0.1111111111111111,\"#46039f\"],[0.2222222222222222,\"#7201a8\"],[0.3333333333333333,\"#9c179e\"],[0.4444444444444444,\"#bd3786\"],[0.5555555555555556,\"#d8576b\"],[0.6666666666666666,\"#ed7953\"],[0.7777777777777778,\"#fb9f3a\"],[0.8888888888888888,\"#fdca26\"],[1.0,\"#f0f921\"]]}],\"choropleth\":[{\"type\":\"choropleth\",\"colorbar\":{\"outlinewidth\":0,\"ticks\":\"\"}}],\"histogram2d\":[{\"type\":\"histogram2d\",\"colorbar\":{\"outlinewidth\":0,\"ticks\":\"\"},\"colorscale\":[[0.0,\"#0d0887\"],[0.1111111111111111,\"#46039f\"],[0.2222222222222222,\"#7201a8\"],[0.3333333333333333,\"#9c179e\"],[0.4444444444444444,\"#bd3786\"],[0.5555555555555556,\"#d8576b\"],[0.6666666666666666,\"#ed7953\"],[0.7777777777777778,\"#fb9f3a\"],[0.8888888888888888,\"#fdca26\"],[1.0,\"#f0f921\"]]}],\"heatmap\":[{\"type\":\"heatmap\",\"colorbar\":{\"outlinewidth\":0,\"ticks\":\"\"},\"colorscale\":[[0.0,\"#0d0887\"],[0.1111111111111111,\"#46039f\"],[0.2222222222222222,\"#7201a8\"],[0.3333333333333333,\"#9c179e\"],[0.4444444444444444,\"#bd3786\"],[0.5555555555555556,\"#d8576b\"],[0.6666666666666666,\"#ed7953\"],[0.7777777777777778,\"#fb9f3a\"],[0.8888888888888888,\"#fdca26\"],[1.0,\"#f0f921\"]]}],\"heatmapgl\":[{\"type\":\"heatmapgl\",\"colorbar\":{\"outlinewidth\":0,\"ticks\":\"\"},\"colorscale\":[[0.0,\"#0d0887\"],[0.1111111111111111,\"#46039f\"],[0.2222222222222222,\"#7201a8\"],[0.3333333333333333,\"#9c179e\"],[0.4444444444444444,\"#bd3786\"],[0.5555555555555556,\"#d8576b\"],[0.6666666666666666,\"#ed7953\"],[0.7777777777777778,\"#fb9f3a\"],[0.8888888888888888,\"#fdca26\"],[1.0,\"#f0f921\"]]}],\"contourcarpet\":[{\"type\":\"contourcarpet\",\"colorbar\":{\"outlinewidth\":0,\"ticks\":\"\"}}],\"contour\":[{\"type\":\"contour\",\"colorbar\":{\"outlinewidth\":0,\"ticks\":\"\"},\"colorscale\":[[0.0,\"#0d0887\"],[0.1111111111111111,\"#46039f\"],[0.2222222222222222,\"#7201a8\"],[0.3333333333333333,\"#9c179e\"],[0.4444444444444444,\"#bd3786\"],[0.5555555555555556,\"#d8576b\"],[0.6666666666666666,\"#ed7953\"],[0.7777777777777778,\"#fb9f3a\"],[0.8888888888888888,\"#fdca26\"],[1.0,\"#f0f921\"]]}],\"surface\":[{\"type\":\"surface\",\"colorbar\":{\"outlinewidth\":0,\"ticks\":\"\"},\"colorscale\":[[0.0,\"#0d0887\"],[0.1111111111111111,\"#46039f\"],[0.2222222222222222,\"#7201a8\"],[0.3333333333333333,\"#9c179e\"],[0.4444444444444444,\"#bd3786\"],[0.5555555555555556,\"#d8576b\"],[0.6666666666666666,\"#ed7953\"],[0.7777777777777778,\"#fb9f3a\"],[0.8888888888888888,\"#fdca26\"],[1.0,\"#f0f921\"]]}],\"mesh3d\":[{\"type\":\"mesh3d\",\"colorbar\":{\"outlinewidth\":0,\"ticks\":\"\"}}],\"scatter\":[{\"fillpattern\":{\"fillmode\":\"overlay\",\"size\":10,\"solidity\":0.2},\"type\":\"scatter\"}],\"parcoords\":[{\"type\":\"parcoords\",\"line\":{\"colorbar\":{\"outlinewidth\":0,\"ticks\":\"\"}}}],\"scatterpolargl\":[{\"type\":\"scatterpolargl\",\"marker\":{\"colorbar\":{\"outlinewidth\":0,\"ticks\":\"\"}}}],\"bar\":[{\"error_x\":{\"color\":\"#2a3f5f\"},\"error_y\":{\"color\":\"#2a3f5f\"},\"marker\":{\"line\":{\"color\":\"#E5ECF6\",\"width\":0.5},\"pattern\":{\"fillmode\":\"overlay\",\"size\":10,\"solidity\":0.2}},\"type\":\"bar\"}],\"scattergeo\":[{\"type\":\"scattergeo\",\"marker\":{\"colorbar\":{\"outlinewidth\":0,\"ticks\":\"\"}}}],\"scatterpolar\":[{\"type\":\"scatterpolar\",\"marker\":{\"colorbar\":{\"outlinewidth\":0,\"ticks\":\"\"}}}],\"histogram\":[{\"marker\":{\"pattern\":{\"fillmode\":\"overlay\",\"size\":10,\"solidity\":0.2}},\"type\":\"histogram\"}],\"scattergl\":[{\"type\":\"scattergl\",\"marker\":{\"colorbar\":{\"outlinewidth\":0,\"ticks\":\"\"}}}],\"scatter3d\":[{\"type\":\"scatter3d\",\"line\":{\"colorbar\":{\"outlinewidth\":0,\"ticks\":\"\"}},\"marker\":{\"colorbar\":{\"outlinewidth\":0,\"ticks\":\"\"}}}],\"scattermapbox\":[{\"type\":\"scattermapbox\",\"marker\":{\"colorbar\":{\"outlinewidth\":0,\"ticks\":\"\"}}}],\"scatterternary\":[{\"type\":\"scatterternary\",\"marker\":{\"colorbar\":{\"outlinewidth\":0,\"ticks\":\"\"}}}],\"scattercarpet\":[{\"type\":\"scattercarpet\",\"marker\":{\"colorbar\":{\"outlinewidth\":0,\"ticks\":\"\"}}}],\"carpet\":[{\"aaxis\":{\"endlinecolor\":\"#2a3f5f\",\"gridcolor\":\"white\",\"linecolor\":\"white\",\"minorgridcolor\":\"white\",\"startlinecolor\":\"#2a3f5f\"},\"baxis\":{\"endlinecolor\":\"#2a3f5f\",\"gridcolor\":\"white\",\"linecolor\":\"white\",\"minorgridcolor\":\"white\",\"startlinecolor\":\"#2a3f5f\"},\"type\":\"carpet\"}],\"table\":[{\"cells\":{\"fill\":{\"color\":\"#EBF0F8\"},\"line\":{\"color\":\"white\"}},\"header\":{\"fill\":{\"color\":\"#C8D4E3\"},\"line\":{\"color\":\"white\"}},\"type\":\"table\"}],\"barpolar\":[{\"marker\":{\"line\":{\"color\":\"#E5ECF6\",\"width\":0.5},\"pattern\":{\"fillmode\":\"overlay\",\"size\":10,\"solidity\":0.2}},\"type\":\"barpolar\"}],\"pie\":[{\"automargin\":true,\"type\":\"pie\"}]},\"layout\":{\"autotypenumbers\":\"strict\",\"colorway\":[\"#636efa\",\"#EF553B\",\"#00cc96\",\"#ab63fa\",\"#FFA15A\",\"#19d3f3\",\"#FF6692\",\"#B6E880\",\"#FF97FF\",\"#FECB52\"],\"font\":{\"color\":\"#2a3f5f\"},\"hovermode\":\"closest\",\"hoverlabel\":{\"align\":\"left\"},\"paper_bgcolor\":\"white\",\"plot_bgcolor\":\"#E5ECF6\",\"polar\":{\"bgcolor\":\"#E5ECF6\",\"angularaxis\":{\"gridcolor\":\"white\",\"linecolor\":\"white\",\"ticks\":\"\"},\"radialaxis\":{\"gridcolor\":\"white\",\"linecolor\":\"white\",\"ticks\":\"\"}},\"ternary\":{\"bgcolor\":\"#E5ECF6\",\"aaxis\":{\"gridcolor\":\"white\",\"linecolor\":\"white\",\"ticks\":\"\"},\"baxis\":{\"gridcolor\":\"white\",\"linecolor\":\"white\",\"ticks\":\"\"},\"caxis\":{\"gridcolor\":\"white\",\"linecolor\":\"white\",\"ticks\":\"\"}},\"coloraxis\":{\"colorbar\":{\"outlinewidth\":0,\"ticks\":\"\"}},\"colorscale\":{\"sequential\":[[0.0,\"#0d0887\"],[0.1111111111111111,\"#46039f\"],[0.2222222222222222,\"#7201a8\"],[0.3333333333333333,\"#9c179e\"],[0.4444444444444444,\"#bd3786\"],[0.5555555555555556,\"#d8576b\"],[0.6666666666666666,\"#ed7953\"],[0.7777777777777778,\"#fb9f3a\"],[0.8888888888888888,\"#fdca26\"],[1.0,\"#f0f921\"]],\"sequentialminus\":[[0.0,\"#0d0887\"],[0.1111111111111111,\"#46039f\"],[0.2222222222222222,\"#7201a8\"],[0.3333333333333333,\"#9c179e\"],[0.4444444444444444,\"#bd3786\"],[0.5555555555555556,\"#d8576b\"],[0.6666666666666666,\"#ed7953\"],[0.7777777777777778,\"#fb9f3a\"],[0.8888888888888888,\"#fdca26\"],[1.0,\"#f0f921\"]],\"diverging\":[[0,\"#8e0152\"],[0.1,\"#c51b7d\"],[0.2,\"#de77ae\"],[0.3,\"#f1b6da\"],[0.4,\"#fde0ef\"],[0.5,\"#f7f7f7\"],[0.6,\"#e6f5d0\"],[0.7,\"#b8e186\"],[0.8,\"#7fbc41\"],[0.9,\"#4d9221\"],[1,\"#276419\"]]},\"xaxis\":{\"gridcolor\":\"white\",\"linecolor\":\"white\",\"ticks\":\"\",\"title\":{\"standoff\":15},\"zerolinecolor\":\"white\",\"automargin\":true,\"zerolinewidth\":2},\"yaxis\":{\"gridcolor\":\"white\",\"linecolor\":\"white\",\"ticks\":\"\",\"title\":{\"standoff\":15},\"zerolinecolor\":\"white\",\"automargin\":true,\"zerolinewidth\":2},\"scene\":{\"xaxis\":{\"backgroundcolor\":\"#E5ECF6\",\"gridcolor\":\"white\",\"linecolor\":\"white\",\"showbackground\":true,\"ticks\":\"\",\"zerolinecolor\":\"white\",\"gridwidth\":2},\"yaxis\":{\"backgroundcolor\":\"#E5ECF6\",\"gridcolor\":\"white\",\"linecolor\":\"white\",\"showbackground\":true,\"ticks\":\"\",\"zerolinecolor\":\"white\",\"gridwidth\":2},\"zaxis\":{\"backgroundcolor\":\"#E5ECF6\",\"gridcolor\":\"white\",\"linecolor\":\"white\",\"showbackground\":true,\"ticks\":\"\",\"zerolinecolor\":\"white\",\"gridwidth\":2}},\"shapedefaults\":{\"line\":{\"color\":\"#2a3f5f\"}},\"annotationdefaults\":{\"arrowcolor\":\"#2a3f5f\",\"arrowhead\":0,\"arrowwidth\":1},\"geo\":{\"bgcolor\":\"white\",\"landcolor\":\"#E5ECF6\",\"subunitcolor\":\"white\",\"showland\":true,\"showlakes\":true,\"lakecolor\":\"white\"},\"title\":{\"x\":0.05},\"mapbox\":{\"style\":\"light\"}}},\"title\":{\"text\":\"Stock Price with Buy and Sell Signals for Alphabet\"},\"xaxis\":{\"title\":{\"text\":\"Date\"}},\"yaxis\":{\"title\":{\"text\":\"Price\"}},\"legend\":{\"title\":{\"text\":\"Legend\"}},\"hovermode\":\"x\"},                        {\"responsive\": true}                    ).then(function(){\n",
       "                            \n",
       "var gd = document.getElementById('8292d3b3-7233-42d5-8de7-f2d5773173a3');\n",
       "var x = new MutationObserver(function (mutations, observer) {{\n",
       "        var display = window.getComputedStyle(gd).display;\n",
       "        if (!display || display === 'none') {{\n",
       "            console.log([gd, 'removed!']);\n",
       "            Plotly.purge(gd);\n",
       "            observer.disconnect();\n",
       "        }}\n",
       "}});\n",
       "\n",
       "// Listen for the removal of the full notebook cells\n",
       "var notebookContainer = gd.closest('#notebook-container');\n",
       "if (notebookContainer) {{\n",
       "    x.observe(notebookContainer, {childList: true});\n",
       "}}\n",
       "\n",
       "// Listen for the clearing of the current output cell\n",
       "var outputEl = gd.closest('.output');\n",
       "if (outputEl) {{\n",
       "    x.observe(outputEl, {childList: true});\n",
       "}}\n",
       "\n",
       "                        })                };                });            </script>        </div>"
      ]
     },
     "metadata": {},
     "output_type": "display_data"
    }
   ],
   "source": [
    "ultimate_res(0.03, 10000)"
   ]
  },
  {
   "cell_type": "code",
   "execution_count": null,
   "id": "01d229d4",
   "metadata": {},
   "outputs": [],
   "source": []
  },
  {
   "cell_type": "code",
   "execution_count": null,
   "id": "cc594d98",
   "metadata": {},
   "outputs": [],
   "source": []
  },
  {
   "cell_type": "code",
   "execution_count": null,
   "id": "727c0d1a",
   "metadata": {},
   "outputs": [],
   "source": []
  }
 ],
 "metadata": {
  "kernelspec": {
   "display_name": "Python 3 (ipykernel)",
   "language": "python",
   "name": "python3"
  },
  "language_info": {
   "codemirror_mode": {
    "name": "ipython",
    "version": 3
   },
   "file_extension": ".py",
   "mimetype": "text/x-python",
   "name": "python",
   "nbconvert_exporter": "python",
   "pygments_lexer": "ipython3",
   "version": "3.11.5"
  }
 },
 "nbformat": 4,
 "nbformat_minor": 5
}
